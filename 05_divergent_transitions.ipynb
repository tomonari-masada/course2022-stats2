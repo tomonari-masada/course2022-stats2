{
  "nbformat": 4,
  "nbformat_minor": 0,
  "metadata": {
    "colab": {
      "name": "05_divergent_transitions.ipynb",
      "provenance": [],
      "collapsed_sections": [],
      "authorship_tag": "ABX9TyPC8jKiHFp80Bj/UZ7VY68M",
      "include_colab_link": true
    },
    "kernelspec": {
      "name": "python3",
      "display_name": "Python 3"
    },
    "language_info": {
      "name": "python"
    }
  },
  "cells": [
    {
      "cell_type": "markdown",
      "metadata": {
        "id": "view-in-github",
        "colab_type": "text"
      },
      "source": [
        "<a href=\"https://colab.research.google.com/github/tomonari-masada/course2022-stats2/blob/main/05_divergent_transitions.ipynb\" target=\"_parent\"><img src=\"https://colab.research.google.com/assets/colab-badge.svg\" alt=\"Open In Colab\"/></a>"
      ]
    },
    {
      "cell_type": "markdown",
      "metadata": {
        "id": "NNwCHBb92l2R"
      },
      "source": [
        "# 5. サンプリングがうまくいかない場合の例\n",
        "* 密度関数がhigh curvatureであるとき、サンプリングが上手くいかないことがある。\n",
        " * high curvatureになっている部分が、サンプリングによって全くカバーされなかったりする。\n",
        "* この場合、reparameterizationを使うと、問題が解決することがある。\n",
        " * https://mc-stan.org/docs/stan-users-guide/reparameterization.html"
      ]
    },
    {
      "cell_type": "markdown",
      "metadata": {
        "id": "knkHYjq64m7T"
      },
      "source": [
        "## 5.0 準備"
      ]
    },
    {
      "cell_type": "code",
      "metadata": {
        "id": "BkDbfcnlvDG2"
      },
      "source": [
        "import warnings\n",
        "\n",
        "import arviz as az\n",
        "import matplotlib.pyplot as plt\n",
        "import seaborn as sns\n",
        "import numpy as np\n",
        "import pymc3 as pm\n",
        "\n",
        "warnings.simplefilter(action=\"ignore\", category=FutureWarning)\n",
        "\n",
        "%config InlineBackend.figure_format = 'retina'\n",
        "az.style.use(\"arviz-darkgrid\")\n",
        "\n",
        "SEED = 20220307"
      ],
      "execution_count": null,
      "outputs": []
    },
    {
      "cell_type": "markdown",
      "metadata": {
        "id": "jW9ns-GO2klD"
      },
      "source": [
        "## 5.1 サンプリングがうまく行かない理由\n",
        "* 参考資料\n",
        " * https://mc-stan.org/docs/reference-manual/divergent-transitions.html\n",
        "* HMCは、勾配を使ってfirst-orderの近似を行っているため、high curvatureな場所では、本当に求めたいものから大きく外れてしまうことがある。すると、サンプリングがパラメータ空間内での単なるランダムウォークに近くなってしまい、密度関数の\"濃淡\"を反映しないものになってしまう。\n",
        " * 別の参考資料 https://norimune.net/3149"
      ]
    },
    {
      "cell_type": "markdown",
      "metadata": {
        "id": "nGhhTBTY4qeZ"
      },
      "source": [
        "## 5.2 例題\n",
        "* 下のような確率分布を考える( https://mc-stan.org/docs/stan-users-guide/reparameterization.html )。\n"
      ]
    },
    {
      "cell_type": "markdown",
      "source": [
        "$$\\begin{align} \n",
        "y & \\sim N(0, 3^2) \\\\\n",
        "x_i & \\sim N(0, e^y), \\text{ $i=1,\\ldots, 9$ }  \n",
        "\\end{align}$$\n"
      ],
      "metadata": {
        "id": "UWIRgmMpmcle"
      }
    },
    {
      "cell_type": "markdown",
      "metadata": {
        "id": "tkCL2f647Nyg"
      },
      "source": [
        "* 同時分布を式で書くと・・・\n",
        "$$p(y, x_1, \\ldots, x_9) = p(y) \\prod_{i=1}^9 p(x_i | y)$$\n",
        "where\n",
        "$$ p(y) = \\frac{1}{\\sqrt{2\\pi 3^2}} \\exp\\bigg( - \\frac{y^2}{2 \\times 3^2}\\bigg)  $$\n",
        "and\n",
        "$$ p(x_i | y) = \\frac{1}{\\sqrt{2\\pi e^y}} \\exp\\bigg( - \\frac{x_i^2}{2e^y} \\bigg) $$"
      ]
    },
    {
      "cell_type": "markdown",
      "metadata": {
        "id": "hjwLkUTH8t2s"
      },
      "source": [
        "* この分布の問題点\n",
        " * $y$の値が小さいとき、$x_i$の従う正規分布が、非常にpeakyな密度関数を持つ\n",
        " * 従って、サンプリングが困難になる。"
      ]
    },
    {
      "cell_type": "markdown",
      "metadata": {
        "id": "wsYHL4Nq5zkM"
      },
      "source": [
        "* 今回は、この分布からサンプリングする（＝この分布に従う乱数を発生させる）。\n",
        " * つまり、今日はベイズの話をするのではなく（＝事後分布からのサンプリングをするのではなく）・・・\n",
        " * NUTSサンプラーでもうまくいかない場合がどんな場合かを、単に説明する。"
      ]
    },
    {
      "cell_type": "markdown",
      "metadata": {
        "id": "rMgTpx2b6DrJ"
      },
      "source": [
        "### 5.2.1 実装方法 (1)\n",
        "* これは悪い実装方法。\n",
        " * divergent transitionが発生する。\n",
        " * さらに、周辺分布$p(y)$は正規分布となるはずなのに、ヒストグラムが全く正規分布の形にならない。"
      ]
    },
    {
      "cell_type": "code",
      "metadata": {
        "id": "Dp9Bb0yCuazz"
      },
      "source": [
        "with pm.Model() as model:\n",
        "  y = pm.Normal(\"y\", mu=0, sd=3)\n",
        "  x = pm.Normal(\"x\", mu=0, sd=(y/2).exp(), shape=9)"
      ],
      "execution_count": null,
      "outputs": []
    },
    {
      "cell_type": "markdown",
      "metadata": {
        "id": "Q_HKMyDiU4KN"
      },
      "source": [
        "* 　今回は、`return_inferencedata=True`と設定せず、arviz向けではない形式、元のPyMC3の形式で、サンプリング結果を得る\n",
        " * arviz向けのサンプリング結果で同じようにdivergenceの分析を行う方法は後で説明する。"
      ]
    },
    {
      "cell_type": "code",
      "metadata": {
        "id": "CcAqQzjZw7BH"
      },
      "source": [
        "with model:\n",
        "  trace = pm.sample(2000, cores=4, random_seed=SEED)"
      ],
      "execution_count": null,
      "outputs": []
    },
    {
      "cell_type": "code",
      "metadata": {
        "id": "AesTzFf4WulB"
      },
      "source": [
        "type(trace)"
      ],
      "execution_count": null,
      "outputs": []
    },
    {
      "cell_type": "code",
      "metadata": {
        "id": "fKzIpKczN3i-"
      },
      "source": [
        "trace['x'].shape"
      ],
      "execution_count": null,
      "outputs": []
    },
    {
      "cell_type": "code",
      "metadata": {
        "id": "kbEDJ1dpx5RY"
      },
      "source": [
        "x0 = trace['x'][:,0]"
      ],
      "execution_count": null,
      "outputs": []
    },
    {
      "cell_type": "code",
      "metadata": {
        "id": "nAaO136vyoz8"
      },
      "source": [
        "x0.shape"
      ],
      "execution_count": null,
      "outputs": []
    },
    {
      "cell_type": "code",
      "metadata": {
        "id": "YBAcGTUryyub"
      },
      "source": [
        "y = trace['y']"
      ],
      "execution_count": null,
      "outputs": []
    },
    {
      "cell_type": "code",
      "metadata": {
        "id": "5hVubUpIy41j"
      },
      "source": [
        "y.shape"
      ],
      "execution_count": null,
      "outputs": []
    },
    {
      "cell_type": "markdown",
      "metadata": {
        "id": "0T8UuSHJG4uy"
      },
      "source": [
        "* divergenceとは\n",
        "\n",
        "> \"A divergence arises when the simulated Hamiltonian trajectory departs from the true trajectory as measured by departure of the Hamiltonian value from its initial value. When this divergence is too high, the simulation has gone off the rails and cannot be trusted. The positions along the simulated trajectory after the Hamiltonian diverges will never be selected as the next draw of the MCMC algorithm, potentially reducing Hamiltonian Monte Carlo to a simple random walk and biasing estimates by not being able to thoroughly explore the posterior distribution.\" ( https://mc-stan.org/docs/reference-manual/divergent-transitions.html )\n",
        "\n"
      ]
    },
    {
      "cell_type": "markdown",
      "metadata": {
        "id": "Br9z-k8dHU7U"
      },
      "source": [
        "* PyMC3でのdivergenceのチェック方法"
      ]
    },
    {
      "cell_type": "code",
      "metadata": {
        "id": "Dc-S2jWZzJPO"
      },
      "source": [
        "divergent = trace['diverging']"
      ],
      "execution_count": null,
      "outputs": []
    },
    {
      "cell_type": "code",
      "metadata": {
        "id": "Erj3s7cmzKvB"
      },
      "source": [
        "divergent.shape"
      ],
      "execution_count": null,
      "outputs": []
    },
    {
      "cell_type": "code",
      "metadata": {
        "id": "bbsmhNsLW7Ig"
      },
      "source": [
        "divergent"
      ],
      "execution_count": null,
      "outputs": []
    },
    {
      "cell_type": "code",
      "metadata": {
        "id": "RE6KCHcPzM9k"
      },
      "source": [
        "divergent.sum()"
      ],
      "execution_count": null,
      "outputs": []
    },
    {
      "cell_type": "code",
      "metadata": {
        "id": "zYhKrKXeORPI"
      },
      "source": [
        "np.where(divergent)"
      ],
      "execution_count": null,
      "outputs": []
    },
    {
      "cell_type": "markdown",
      "metadata": {
        "id": "V0YBYFhnHdRF"
      },
      "source": [
        "* chainの中でdivergenceが発生したサンプルを赤で示してみる。"
      ]
    },
    {
      "cell_type": "code",
      "metadata": {
        "id": "OuVOoXA-y5mT"
      },
      "source": [
        "plt.figure(figsize=(6, 6))\n",
        "plt.scatter(x0[~ divergent], y[~ divergent], color='g')\n",
        "plt.scatter(x0[divergent], y[divergent], color='r')\n",
        "plt.axis([-20, 20, -9, 9])\n",
        "plt.ylabel('y')\n",
        "plt.xlabel('x[0]')\n",
        "plt.title('scatter plot between y and x[0]');"
      ],
      "execution_count": null,
      "outputs": []
    },
    {
      "cell_type": "markdown",
      "metadata": {
        "id": "OMOutBQJXldX"
      },
      "source": [
        "* 上のプロットで分かるように、図の下の方の領域で全くサンプルが取られていない。"
      ]
    },
    {
      "cell_type": "markdown",
      "metadata": {
        "id": "px5OuIKMHl8t"
      },
      "source": [
        "* $y$のヒストグラムを確認する。\n",
        " * yの周辺分布（下の式）は正規分布になるはずだが・・・\n",
        "$$p(y) = \\idotsint p(y, x_1, \\ldots, x_9) dx_1 \\cdots dx_9$$"
      ]
    },
    {
      "cell_type": "code",
      "metadata": {
        "id": "82SVcnquzglV"
      },
      "source": [
        "sns.displot(y, kind=\"kde\");"
      ],
      "execution_count": null,
      "outputs": []
    },
    {
      "cell_type": "markdown",
      "metadata": {
        "id": "yYg8Nm6X6iDd"
      },
      "source": [
        "### 5.2.2 実装方法 (2)\n",
        "* これは、reparameterizationを使うことで改良された実装。\n",
        " * divergent transitionは起こらない。\n",
        " * $y$のサンプルのヒストグラムも正規分布の形を示す。"
      ]
    },
    {
      "cell_type": "markdown",
      "metadata": {
        "id": "6kUfU8ycINDZ"
      },
      "source": [
        "* 元のモデルは\n",
        "$$\\begin{align} \n",
        "y & \\sim N(0, 3^2) \\\\\n",
        "x_i & \\sim N(0, e^y), \\text{ $i=1,\\ldots, 9$ }  \n",
        "\\end{align}$$\n"
      ]
    },
    {
      "cell_type": "markdown",
      "metadata": {
        "id": "pBvdxv0LJP4D"
      },
      "source": [
        "* $x_i$を$N(0, e^y)$からサンプリングする、という実装をやめて、代わりに\n",
        " * まず$x_\\text{raw}$を$N(0,1)$からサンプリングし・・・\n",
        " * その$x_\\text{raw}$を$x = e^{y/2} x_\\text{raw}$という式で変換している。"
      ]
    },
    {
      "cell_type": "code",
      "metadata": {
        "id": "iuBGF_lS0NhF"
      },
      "source": [
        "with pm.Model() as model_revised:\n",
        "  y = pm.Normal(\"y\", mu=0, sd=3)\n",
        "  x_raw = pm.Normal(\"x_raw\", mu=0, sd=1, shape=9)\n",
        "  x = pm.Deterministic(\"x\", (y/2).exp() * x_raw)"
      ],
      "execution_count": null,
      "outputs": []
    },
    {
      "cell_type": "code",
      "metadata": {
        "id": "XBggIODC1sGU"
      },
      "source": [
        "with model_revised:\n",
        "  trace_revised = pm.sample(2000, cores=4, random_seed=SEED)"
      ],
      "execution_count": null,
      "outputs": []
    },
    {
      "cell_type": "code",
      "metadata": {
        "id": "KXB9P1J-1wnD"
      },
      "source": [
        "x0 = trace_revised['x'][:, 0]\n",
        "y = trace_revised['y']\n",
        "divergent = trace_revised['diverging']"
      ],
      "execution_count": null,
      "outputs": []
    },
    {
      "cell_type": "code",
      "metadata": {
        "id": "Pmdq6X2yQC-l"
      },
      "source": [
        "divergent.sum()"
      ],
      "execution_count": null,
      "outputs": []
    },
    {
      "cell_type": "code",
      "metadata": {
        "id": "7WuXXJnQ16od"
      },
      "source": [
        "plt.figure(figsize=(6, 6))\n",
        "plt.scatter(x0[~ divergent], y[~ divergent], color='g')\n",
        "plt.scatter(x0[divergent], y[divergent], color='r')\n",
        "plt.axis([-20, 20, -9, 9])\n",
        "plt.ylabel('y')\n",
        "plt.xlabel('x[0]')\n",
        "plt.title('scatter plot between y and x[0]');"
      ],
      "execution_count": null,
      "outputs": []
    },
    {
      "cell_type": "code",
      "metadata": {
        "id": "77MUwtt02GkE"
      },
      "source": [
        "sns.displot(y, kind=\"kde\");"
      ],
      "execution_count": null,
      "outputs": []
    },
    {
      "cell_type": "markdown",
      "metadata": {
        "id": "bJUU-_mT4AB0"
      },
      "source": [
        "## 5.3 The Eight Schools Model\n",
        "* 下記Webページにある「A Centered Eight Schools Implementation」の実験を再現してみる。\n",
        " * https://docs.pymc.io/en/v3/pymc-examples/examples/diagnostics_and_criticism/Diagnosing_biased_Inference_with_Divergences.html\n"
      ]
    },
    {
      "cell_type": "markdown",
      "metadata": {
        "id": "HFbEfpZPKMQI"
      },
      "source": [
        "\n",
        "\n",
        "> \"Hamiltonian Monte Carlo, for example, is especially powerful in this regard as its failures to be geometrically ergodic with respect to any target distribution manifest in distinct behaviors that have been developed into sensitive diagnostics. One of these behaviors is the appearance of divergences that indicate the Hamiltonian Markov chain has encountered regions of high curvature in the target distribution which it cannot adequately explore.\"\n",
        "\n"
      ]
    },
    {
      "cell_type": "markdown",
      "metadata": {
        "id": "bvizqGdjVdcH"
      },
      "source": [
        "* arviz向けにコードを書き直した。"
      ]
    },
    {
      "cell_type": "markdown",
      "metadata": {
        "id": "KcClvGM-4DzJ"
      },
      "source": [
        "### 5.5.1 データセット\n",
        "* `y`が観測データ\n",
        " * 各校で同じコーチングを実施し、その前後で学力テストの点数がどう変化したかを表す。\n",
        " * 正確には、この`y`は観測データではなく、8つの学校ごとに別々の回帰分析によって得られたestimates。\n",
        " * cf. https://arxiv.org/abs/1507.04544 のSection 4.1\n",
        "* `sigma`が既知のパラメータ\n",
        " * これも、8つの学校ごとに別々の回帰分析によって得られたstandard errors。"
      ]
    },
    {
      "cell_type": "code",
      "metadata": {
        "id": "0yf_sJfzgp8K"
      },
      "source": [
        "# Data of the Eight Schools Model\n",
        "y = np.asarray([28,  8, -3,  7, -1,  1, 18, 12], dtype=float)\n",
        "sigma = np.asarray([15, 10, 16, 11,  9, 11, 10, 18], dtype=float)\n",
        "J = y.shape[0]"
      ],
      "execution_count": null,
      "outputs": []
    },
    {
      "cell_type": "markdown",
      "metadata": {
        "id": "DwZlUnFaLJ75"
      },
      "source": [
        "* このデータを以下のようにモデリングする。\n",
        "$$\\begin{align}\n",
        "\\mu & \\sim N(0,5) \\notag \\\\\n",
        "\\tau & \\sim \\text{Half-Cauchy}(5) \\\\\n",
        "\\theta_n & \\sim N(\\mu, \\tau) \\\\\n",
        "y_n & \\sim N(\\theta_n, \\sigma_n^2)\n",
        "\\end{align}$$\n",
        " * $y_n$が上記コードの`y`に対応する。\n",
        " * $\\sigma_n$が上記コードの`sigma`に対応する。"
      ]
    },
    {
      "cell_type": "markdown",
      "metadata": {
        "id": "WbCX0lORKrbh"
      },
      "source": [
        "* Half-cauchy分布については下記ページを参照\n",
        " * https://distribution-explorer.github.io/continuous/halfcauchy.html\n",
        "> \"The Half-Cauchy distribution with 𝜇=0 is a useful prior for nonnegative parameters that may be very large, as allowed by the very heavy tails of the Half-Cauchy distribution.\""
      ]
    },
    {
      "cell_type": "markdown",
      "metadata": {
        "id": "oHoMnVGT4F2G"
      },
      "source": [
        "### 5.5.2 実装方法(1)\n",
        "* これは良くない実装方法。\n",
        " * 後でreparameterizationを使って改良する。"
      ]
    },
    {
      "cell_type": "code",
      "metadata": {
        "id": "nHcWdlj13gN0"
      },
      "source": [
        "with pm.Model() as Centered_eight:\n",
        "  mu = pm.Normal('mu', mu=0, sd=5)\n",
        "  tau = pm.HalfCauchy('tau', beta=5)\n",
        "  theta = pm.Normal('theta', mu=mu, sd=tau, shape=J)\n",
        "  obs = pm.Normal('obs', mu=theta, sd=sigma, observed=y)"
      ],
      "execution_count": null,
      "outputs": []
    },
    {
      "cell_type": "markdown",
      "metadata": {
        "id": "g_e7yItLVzDz"
      },
      "source": [
        "* `return_inferencedata=True`としてarviz向けのサンプリング結果データを得る。　"
      ]
    },
    {
      "cell_type": "code",
      "metadata": {
        "id": "W5guqoqh3pAM"
      },
      "source": [
        "with Centered_eight:\n",
        "  trace = pm.sample(2000, cores=4, random_seed=SEED, return_inferencedata=True)"
      ],
      "execution_count": null,
      "outputs": []
    },
    {
      "cell_type": "code",
      "metadata": {
        "id": "0db0R0ut4ScK"
      },
      "source": [
        "az.summary(trace)"
      ],
      "execution_count": null,
      "outputs": []
    },
    {
      "cell_type": "markdown",
      "metadata": {
        "id": "hReL9yShZS1F"
      },
      "source": [
        "* `r_hat`が1.0から離れているものもある。\n",
        "* `tau`に問題がありそう。"
      ]
    },
    {
      "cell_type": "code",
      "metadata": {
        "id": "lrWbSJnZ5lRM"
      },
      "source": [
        "pm.traceplot(trace, var_names=['tau']);"
      ],
      "execution_count": null,
      "outputs": []
    },
    {
      "cell_type": "markdown",
      "metadata": {
        "id": "HLYQcC0cWFBs"
      },
      "source": [
        "* このデータについては$\\tau$の\"真の値\"が分かっているらしい。\n",
        " * \"真の値\"の詳細は https://discourse.pymc.io/t/how-is-the-true-value-of-tau-in-the-eight-schools-model-known/1932\n",
        "* logスケールでプロットして、真の値からのズレを見てみる。\n",
        " * $\\log \\tau$の真の値は0.7657852らしいです。"
      ]
    },
    {
      "cell_type": "code",
      "metadata": {
        "id": "Q2V8dZkY5pF8"
      },
      "source": [
        "logtau = np.log(trace.posterior['tau'].data)\n",
        "plt.figure(figsize=(15, 4))\n",
        "plt.axhline(0.7657852, lw=2.5, color='gray')\n",
        "for j in range(logtau.shape[0]):\n",
        "  mlogtau = [np.mean(logtau[j,:i]) for i in np.arange(1, len(logtau[j]))]\n",
        "  plt.plot(mlogtau, lw=2.5)\n",
        "plt.ylim(0, 2)\n",
        "plt.xlabel('Iteration')\n",
        "plt.ylabel('MCMC mean of log(tau)')\n",
        "plt.title('MCMC estimation of log(tau)');"
      ],
      "execution_count": null,
      "outputs": []
    },
    {
      "cell_type": "markdown",
      "source": [
        "* arviz向けのデータの場合、divergencesの情報がどこに保存されているか、調べる。"
      ],
      "metadata": {
        "id": "ci9OHptjpMpn"
      }
    },
    {
      "cell_type": "code",
      "metadata": {
        "id": "ZzYPJAxDT3tG"
      },
      "source": [
        "trace.sample_stats"
      ],
      "execution_count": null,
      "outputs": []
    },
    {
      "cell_type": "code",
      "metadata": {
        "id": "8HLUyCEqTl00"
      },
      "source": [
        "trace.sample_stats.diverging"
      ],
      "execution_count": null,
      "outputs": []
    },
    {
      "cell_type": "code",
      "metadata": {
        "id": "clvwEtIiENbC"
      },
      "source": [
        "chain_id = 0\n",
        "divergent = trace.sample_stats.diverging.data[chain_id]"
      ],
      "execution_count": null,
      "outputs": []
    },
    {
      "cell_type": "code",
      "metadata": {
        "id": "_LkxbQJ37i3l"
      },
      "source": [
        "theta_trace = trace.posterior['theta'][chain_id]\n",
        "theta0 = theta_trace[:,0]\n",
        "plt.figure(figsize=(10, 6))\n",
        "plt.scatter(theta0[~divergent], logtau[chain_id][~divergent], color='g')\n",
        "plt.scatter(theta0[divergent], logtau[chain_id][divergent], color='r')\n",
        "plt.axis([-20, 50, -6, 4])\n",
        "plt.ylabel('log(tau)')\n",
        "plt.xlabel('theta[0]')\n",
        "plt.title('scatter plot between log(tau) and theta[0]');"
      ],
      "execution_count": null,
      "outputs": []
    },
    {
      "cell_type": "code",
      "metadata": {
        "id": "MMdXotfkFmpw"
      },
      "source": [
        "chain_id = 1\n",
        "divergent = trace.sample_stats.diverging.data[chain_id]\n",
        "theta_trace = trace.posterior['theta'][chain_id]\n",
        "theta0 = theta_trace[:,0]\n",
        "plt.figure(figsize=(10, 6))\n",
        "plt.scatter(theta0[~divergent], logtau[chain_id][~divergent], color='g')\n",
        "plt.scatter(theta0[divergent], logtau[chain_id][divergent], color='r')\n",
        "plt.axis([-20, 50, -6, 4])\n",
        "plt.ylabel('log(tau)')\n",
        "plt.xlabel('theta[0]')\n",
        "plt.title('scatter plot between log(tau) and theta[0]');"
      ],
      "execution_count": null,
      "outputs": []
    },
    {
      "cell_type": "markdown",
      "metadata": {
        "id": "s1EGYvtRE41D"
      },
      "source": [
        "### 5.5.3 実装方法(2)\n",
        "* reparameterizationを使う。"
      ]
    },
    {
      "cell_type": "markdown",
      "source": [
        "* $\\theta_i$を$N(\\mu, \\tau)$からサンプリングする、という実装をやめて、代わりに\n",
        " * まず$\\tilde{\\theta}_i$を$N(0,1)$からサンプリングし・・・\n",
        " * その$\\tilde{\\theta}_i$を$\\theta_i = \\mu + \\tau \\tilde{\\theta}_i$という式で変換している。"
      ],
      "metadata": {
        "id": "Ql0NbRTRilwe"
      }
    },
    {
      "cell_type": "code",
      "metadata": {
        "id": "9Z7b01drDhWF"
      },
      "source": [
        "with pm.Model() as NonCentered_eight:\n",
        "  mu = pm.Normal('mu', mu=0, sd=5)\n",
        "  tau = pm.HalfCauchy('tau', beta=5)\n",
        "  theta_tilde = pm.Normal('theta_t', mu=0, sd=1, shape=J)\n",
        "  theta = pm.Deterministic('theta', mu + tau * theta_tilde) # ここでreparameterizationを使用\n",
        "  obs = pm.Normal('obs', mu=theta, sd=sigma, observed=y)"
      ],
      "execution_count": null,
      "outputs": []
    },
    {
      "cell_type": "code",
      "metadata": {
        "id": "fjGx2yf4Fy-I"
      },
      "source": [
        "with NonCentered_eight:\n",
        "  trace = pm.sample(2000, cores=4, random_seed=SEED, return_inferencedata=True)"
      ],
      "execution_count": null,
      "outputs": []
    },
    {
      "cell_type": "code",
      "metadata": {
        "id": "A9OrPQVOZPTj"
      },
      "source": [
        "az.summary(trace)"
      ],
      "execution_count": null,
      "outputs": []
    },
    {
      "cell_type": "code",
      "metadata": {
        "id": "ERjMzUXvZdGC"
      },
      "source": [
        "pm.traceplot(trace, var_names=['tau']);"
      ],
      "execution_count": null,
      "outputs": []
    },
    {
      "cell_type": "code",
      "metadata": {
        "id": "DxFxZ3MCZjtx"
      },
      "source": [
        "logtau = np.log(trace.posterior['tau'].data)\n",
        "plt.figure(figsize=(15, 4))\n",
        "plt.axhline(0.7657852, lw=2.5, color='gray')\n",
        "for j in range(logtau.shape[0]):\n",
        "  mlogtau = [np.mean(logtau[j,:i]) for i in np.arange(1, len(logtau[j]))]\n",
        "  plt.plot(mlogtau, lw=2.5)\n",
        "plt.ylim(0, 2)\n",
        "plt.xlabel('Iteration')\n",
        "plt.ylabel('MCMC mean of log(tau)')\n",
        "plt.title('MCMC estimation of log(tau)');"
      ],
      "execution_count": null,
      "outputs": []
    },
    {
      "cell_type": "code",
      "metadata": {
        "id": "snCLgAMbZpb-"
      },
      "source": [
        "chain_id = 0\n",
        "divergent = trace.sample_stats.diverging.data[chain_id]\n",
        "theta_trace = trace.posterior['theta'][chain_id]\n",
        "theta0 = theta_trace[:,0]\n",
        "plt.figure(figsize=(10, 6))\n",
        "plt.scatter(theta0[~divergent], logtau[chain_id][~divergent], color='g')\n",
        "plt.scatter(theta0[divergent], logtau[chain_id][divergent], color='r')\n",
        "plt.axis([-20, 50, -6, 4])\n",
        "plt.ylabel('log(tau)')\n",
        "plt.xlabel('theta[0]')\n",
        "plt.title('scatter plot between log(tau) and theta[0]');"
      ],
      "execution_count": null,
      "outputs": []
    },
    {
      "cell_type": "code",
      "metadata": {
        "id": "TY6PQ0bWaAq_"
      },
      "source": [
        "chain_id = 1\n",
        "divergent = trace.sample_stats.diverging.data[chain_id]\n",
        "theta_trace = trace.posterior['theta'][chain_id]\n",
        "theta0 = theta_trace[:,0]\n",
        "plt.figure(figsize=(10, 6))\n",
        "plt.scatter(theta0[~divergent], logtau[chain_id][~divergent], color='g')\n",
        "plt.scatter(theta0[divergent], logtau[chain_id][divergent], color='r')\n",
        "plt.axis([-20, 50, -6, 4])\n",
        "plt.ylabel('log(tau)')\n",
        "plt.xlabel('theta[0]')\n",
        "plt.title('scatter plot between log(tau) and theta[0]');"
      ],
      "execution_count": null,
      "outputs": []
    },
    {
      "cell_type": "markdown",
      "metadata": {
        "id": "bDlkkc72bZrj"
      },
      "source": [
        "### 5.5.4 採択率(acceptance rate)を調整する"
      ]
    },
    {
      "cell_type": "markdown",
      "metadata": {
        "id": "j46Upl_5byp6"
      },
      "source": [
        "> \"target_accept : float in [0, 1]. The step size is tuned such that we approximate this acceptance rate. Higher values like 0.9 or 0.95 often work better for problematic posteriors.\" (https://docs.pymc.io/api/inference.html ) \n"
      ]
    },
    {
      "cell_type": "code",
      "metadata": {
        "id": "96MQNNfma_3o"
      },
      "source": [
        "with NonCentered_eight:\n",
        "  step = pm.NUTS(target_accept=.90)\n",
        "  trace = pm.sample(2000, step=step, cores=4, random_seed=SEED, return_inferencedata=True)"
      ],
      "execution_count": null,
      "outputs": []
    },
    {
      "cell_type": "code",
      "metadata": {
        "id": "83d678hrb7yg"
      },
      "source": [
        "with NonCentered_eight:\n",
        "  step = pm.NUTS(target_accept=.95)\n",
        "  trace = pm.sample(2000, step=step, cores=4, random_seed=SEED, return_inferencedata=True)"
      ],
      "execution_count": null,
      "outputs": []
    },
    {
      "cell_type": "code",
      "metadata": {
        "id": "Ah60rn3LchQ_"
      },
      "source": [
        "logtau = np.log(trace.posterior['tau'].data)\n",
        "plt.figure(figsize=(15, 4))\n",
        "plt.axhline(0.7657852, lw=2.5, color='gray')\n",
        "for j in range(logtau.shape[0]):\n",
        "  mlogtau = [np.mean(logtau[j,:i]) for i in np.arange(1, len(logtau[j]))]\n",
        "  plt.plot(mlogtau, lw=2.5)\n",
        "plt.ylim(0, 2)\n",
        "plt.xlabel('Iteration')\n",
        "plt.ylabel('MCMC mean of log(tau)')\n",
        "plt.title('MCMC estimation of log(tau)');"
      ],
      "execution_count": null,
      "outputs": []
    },
    {
      "cell_type": "code",
      "metadata": {
        "id": "oO5qTr4xco0H"
      },
      "source": [
        ""
      ],
      "execution_count": null,
      "outputs": []
    }
  ]
}