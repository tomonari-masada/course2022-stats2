{
  "nbformat": 4,
  "nbformat_minor": 0,
  "metadata": {
    "colab": {
      "name": "PLSI.ipynb",
      "provenance": [],
      "collapsed_sections": [],
      "authorship_tag": "ABX9TyOi5NsaFUweeB/ziitEAjcf",
      "include_colab_link": true
    },
    "kernelspec": {
      "name": "python3",
      "display_name": "Python 3"
    },
    "language_info": {
      "name": "python"
    }
  },
  "cells": [
    {
      "cell_type": "markdown",
      "metadata": {
        "id": "view-in-github",
        "colab_type": "text"
      },
      "source": [
        "<a href=\"https://colab.research.google.com/github/tomonari-masada/course2022-stats2/blob/main/PLSI.ipynb\" target=\"_parent\"><img src=\"https://colab.research.google.com/assets/colab-badge.svg\" alt=\"Open In Colab\"/></a>"
      ]
    },
    {
      "cell_type": "markdown",
      "source": [
        "# PLSIの実装例"
      ],
      "metadata": {
        "id": "dwJ6v0ez0HOT"
      }
    },
    {
      "cell_type": "code",
      "source": [
        "!pip install torchdata"
      ],
      "metadata": {
        "colab": {
          "base_uri": "https://localhost:8080/"
        },
        "id": "d99iMoXnmSxS",
        "outputId": "9aa4175c-0013-4a1b-e4e9-5edb09136cdf"
      },
      "execution_count": null,
      "outputs": [
        {
          "output_type": "stream",
          "name": "stdout",
          "text": [
            "Looking in indexes: https://pypi.org/simple, https://us-python.pkg.dev/colab-wheels/public/simple/\n",
            "Requirement already satisfied: torchdata in /usr/local/lib/python3.7/dist-packages (0.3.0)\n",
            "Requirement already satisfied: torch==1.11.0 in /usr/local/lib/python3.7/dist-packages (from torchdata) (1.11.0+cu113)\n",
            "Requirement already satisfied: urllib3>=1.25 in /usr/local/lib/python3.7/dist-packages (from torchdata) (1.25.11)\n",
            "Requirement already satisfied: requests in /usr/local/lib/python3.7/dist-packages (from torchdata) (2.23.0)\n",
            "Requirement already satisfied: typing-extensions in /usr/local/lib/python3.7/dist-packages (from torch==1.11.0->torchdata) (4.1.1)\n",
            "Requirement already satisfied: chardet<4,>=3.0.2 in /usr/local/lib/python3.7/dist-packages (from requests->torchdata) (3.0.4)\n",
            "Requirement already satisfied: certifi>=2017.4.17 in /usr/local/lib/python3.7/dist-packages (from requests->torchdata) (2022.6.15)\n",
            "Requirement already satisfied: idna<3,>=2.5 in /usr/local/lib/python3.7/dist-packages (from requests->torchdata) (2.10)\n"
          ]
        }
      ]
    },
    {
      "cell_type": "code",
      "execution_count": null,
      "metadata": {
        "id": "nXFK-gGMlKxa"
      },
      "outputs": [],
      "source": [
        "from tqdm import tqdm\n",
        "import numpy as np\n",
        "from numpy.random import default_rng\n",
        "from sklearn.feature_extraction.text import CountVectorizer\n",
        "from torchtext.datasets import AG_NEWS\n",
        "\n",
        "rng = default_rng()"
      ]
    },
    {
      "cell_type": "markdown",
      "source": [
        "* https://pytorch.org/text/stable/datasets.html"
      ],
      "metadata": {
        "id": "I_hAaniNmdWk"
      }
    },
    {
      "cell_type": "code",
      "source": [
        "train_iter = AG_NEWS(split='train')\n",
        "\n",
        "def tokenize(line):\n",
        "  return line.split()\n",
        "\n",
        "corpus = []\n",
        "for label, line in tqdm(train_iter):\n",
        "  corpus.append(line.lower())\n",
        "  if len(corpus) >= 20000:\n",
        "    break"
      ],
      "metadata": {
        "colab": {
          "base_uri": "https://localhost:8080/"
        },
        "id": "y_FCx95Hlwds",
        "outputId": "fe6ab46d-1eae-4001-b445-2335c83a03ab"
      },
      "execution_count": null,
      "outputs": [
        {
          "output_type": "stream",
          "name": "stderr",
          "text": [
            "19999it [00:00, 25267.06it/s]\n"
          ]
        }
      ]
    },
    {
      "cell_type": "code",
      "source": [
        "corpus[0]"
      ],
      "metadata": {
        "colab": {
          "base_uri": "https://localhost:8080/",
          "height": 35
        },
        "id": "tyZoJ0nfl8Tk",
        "outputId": "92f2d69a-5ade-4931-dbd8-2bd31d59683e"
      },
      "execution_count": null,
      "outputs": [
        {
          "output_type": "execute_result",
          "data": {
            "text/plain": [
              "\"wall st. bears claw back into the black (reuters) reuters - short-sellers, wall street's dwindling\\\\band of ultra-cynics, are seeing green again.\""
            ],
            "application/vnd.google.colaboratory.intrinsic+json": {
              "type": "string"
            }
          },
          "metadata": {},
          "execution_count": 4
        }
      ]
    },
    {
      "cell_type": "code",
      "source": [
        "vectorizer = CountVectorizer(stop_words='english', min_df=0.001, max_df=0.1)\n",
        "X = vectorizer.fit_transform(corpus).toarray()\n",
        "vocab = vectorizer.get_feature_names_out()"
      ],
      "metadata": {
        "id": "GQW5X9PKnIKi"
      },
      "execution_count": null,
      "outputs": []
    },
    {
      "cell_type": "markdown",
      "source": [
        "* 全ての単語が削除されてしまっている文書がないことを確認\n",
        " * このチェックをしておかないと、ゼロで割ることによるエラーが出るため。"
      ],
      "metadata": {
        "id": "FAdc2AWTzXyq"
      }
    },
    {
      "cell_type": "code",
      "source": [
        "(X.sum(-1) == 0).sum()"
      ],
      "metadata": {
        "colab": {
          "base_uri": "https://localhost:8080/"
        },
        "id": "Yhox5oeszDEQ",
        "outputId": "d8249cef-fe1c-4dd2-e824-50bc26c8a790"
      },
      "execution_count": null,
      "outputs": [
        {
          "output_type": "execute_result",
          "data": {
            "text/plain": [
              "0"
            ]
          },
          "metadata": {},
          "execution_count": 6
        }
      ]
    },
    {
      "cell_type": "code",
      "source": [
        "N, W = X.shape\n",
        "print(f\"{N} docs, {W} different words\")"
      ],
      "metadata": {
        "colab": {
          "base_uri": "https://localhost:8080/"
        },
        "id": "NSM9OWneoeuH",
        "outputId": "bf8fddab-a948-4202-e97a-e322cfdc3e59"
      },
      "execution_count": null,
      "outputs": [
        {
          "output_type": "stream",
          "name": "stdout",
          "text": [
            "20000 docs, 3959 different words\n"
          ]
        }
      ]
    },
    {
      "cell_type": "markdown",
      "source": [
        "* トピック数の設定とパラメータの初期化"
      ],
      "metadata": {
        "id": "VzAFSJEt2Vbm"
      }
    },
    {
      "cell_type": "code",
      "source": [
        "K=10\n",
        "theta = rng.random([len(corpus), K])\n",
        "theta = theta / theta.sum(1, keepdims=True)\n",
        "phi = rng.random([K, len(vocab)])\n",
        "phi = phi / phi.sum(1, keepdims=True)"
      ],
      "metadata": {
        "id": "KPSsIhC2oh4I"
      },
      "execution_count": null,
      "outputs": []
    },
    {
      "cell_type": "code",
      "source": [
        "mb_size = 1000\n",
        "for iter in range(200):\n",
        "  new_theta = theta.copy()\n",
        "  new_phi = np.zeros_like(phi)\n",
        "  for i in tqdm(range(1, len(corpus) + 1, mb_size)):\n",
        "    q = theta[i:i+mb_size,np.newaxis,:] * phi.transpose()[np.newaxis,:,:]\n",
        "    pseudo_counts = q * X[i:i+mb_size,:,np.newaxis]\n",
        "    temp_theta = pseudo_counts.sum(1)\n",
        "    temp_theta = temp_theta / temp_theta.sum(1, keepdims=True)\n",
        "    new_theta[i:i+mb_size,:] = temp_theta\n",
        "    new_phi += pseudo_counts.sum(0).transpose()\n",
        "  theta = new_theta\n",
        "  phi = new_phi / new_phi.sum(1, keepdims=True)\n",
        "  if (iter + 1) % 10 == 0:\n",
        "    for k in range(K):\n",
        "      print(' '.join(list(vocab[(- phi).argsort()[k,:20]])))\n",
        "    print('-' * 80)"
      ],
      "metadata": {
        "colab": {
          "base_uri": "https://localhost:8080/",
          "height": 1000
        },
        "id": "9dObGEfDpV-e",
        "outputId": "2a1a72c2-ed30-4c3b-9ad0-d9aa9a8a944c"
      },
      "execution_count": null,
      "outputs": [
        {
          "output_type": "stream",
          "name": "stderr",
          "text": [
            "100%|██████████| 20/20 [00:07<00:00,  2.76it/s]\n",
            "100%|██████████| 20/20 [00:07<00:00,  2.65it/s]\n",
            "100%|██████████| 20/20 [00:05<00:00,  3.45it/s]\n",
            "100%|██████████| 20/20 [00:05<00:00,  3.50it/s]\n",
            "100%|██████████| 20/20 [00:05<00:00,  3.45it/s]\n",
            "100%|██████████| 20/20 [00:05<00:00,  3.47it/s]\n",
            "100%|██████████| 20/20 [00:05<00:00,  3.48it/s]\n",
            "100%|██████████| 20/20 [00:05<00:00,  3.48it/s]\n",
            "100%|██████████| 20/20 [00:05<00:00,  3.51it/s]\n",
            "100%|██████████| 20/20 [00:05<00:00,  3.41it/s]\n"
          ]
        },
        {
          "output_type": "stream",
          "name": "stdout",
          "text": [
            "company yesterday microsoft olympic gold security athens china com software internet medal corp windows united saturday thursday today state market\n",
            "week friday athens olympic afp gold says team win microsoft iraq president york years night lt al tuesday court gt\n",
            "year monday thursday government athens million president world olympic market tuesday bank percent york time sales second group report minister\n",
            "quot oil stocks company prices york monday united today tuesday gt friday world google high day lt corp says open\n",
            "ap thursday monday wednesday time night olympic microsoft athens tuesday internet second people iraq gold world company friday officials government\n",
            "lt gt tuesday world ap fullquote stocks com company year wednesday york http day ticker investor target million washington iraq\n",
            "world iraq york sunday second thursday oil day najaf people prices monday group city lt afp president al iraqi record\n",
            "ap time tuesday iraq million games olympic years gold monday game sunday president bush year york government china company home\n",
            "ap year monday world tuesday friday night iraq sunday wednesday second company team saturday thursday says week oil president people\n",
            "lt oil gt wednesday prices stocks olympic friday york fullquote iraq monday thursday gold time athens corp united com day\n",
            "--------------------------------------------------------------------------------\n"
          ]
        },
        {
          "output_type": "stream",
          "name": "stderr",
          "text": [
            "100%|██████████| 20/20 [00:05<00:00,  3.39it/s]\n",
            "100%|██████████| 20/20 [00:05<00:00,  3.44it/s]\n",
            "100%|██████████| 20/20 [00:06<00:00,  3.08it/s]\n",
            "100%|██████████| 20/20 [00:06<00:00,  3.09it/s]\n",
            "100%|██████████| 20/20 [00:05<00:00,  3.42it/s]\n",
            "100%|██████████| 20/20 [00:05<00:00,  3.37it/s]\n",
            "100%|██████████| 20/20 [00:05<00:00,  3.36it/s]\n",
            "100%|██████████| 20/20 [00:05<00:00,  3.35it/s]\n",
            "100%|██████████| 20/20 [00:06<00:00,  3.32it/s]\n",
            "100%|██████████| 20/20 [00:05<00:00,  3.36it/s]\n"
          ]
        },
        {
          "output_type": "stream",
          "name": "stdout",
          "text": [
            "company yesterday microsoft security software windows internet today corp com china market united apple computer music million state saturday google\n",
            "athens olympic week friday gold afp team says win years medal president night games olympics men united court greece al\n",
            "year monday government million percent old president thursday sales second bank research market world report profit time tuesday york end\n",
            "quot company world says united president today yesterday oil athens gt friday monday olympic microsoft lt iraq time high china\n",
            "ap monday thursday wednesday night tuesday time friday game iraq people officials internet bush microsoft team second olympic saturday world\n",
            "gt lt tuesday fullquote stocks com http ticker href target investor www quickinfo aspx york world font washington corp company\n",
            "world iraq york thursday sunday second people najaf day city group iraqi al killed government monday president record win prices\n",
            "ap time tuesday bush iraq monday sunday president wednesday game year years friday games night saturday york million olympic world\n",
            "ap monday friday tuesday night year wednesday sunday world saturday iraq bush team president thursday game victory people second 151\n",
            "oil wednesday prices stocks lt gt york iraq friday crude monday higher high record day thursday price percent corp china\n",
            "--------------------------------------------------------------------------------\n"
          ]
        },
        {
          "output_type": "stream",
          "name": "stderr",
          "text": [
            "100%|██████████| 20/20 [00:06<00:00,  3.33it/s]\n",
            "100%|██████████| 20/20 [00:06<00:00,  3.28it/s]\n",
            "100%|██████████| 20/20 [00:06<00:00,  3.13it/s]\n",
            "100%|██████████| 20/20 [00:07<00:00,  2.83it/s]\n",
            "100%|██████████| 20/20 [00:07<00:00,  2.78it/s]\n",
            "100%|██████████| 20/20 [00:07<00:00,  2.77it/s]\n",
            "100%|██████████| 20/20 [00:07<00:00,  2.69it/s]\n",
            "100%|██████████| 20/20 [00:06<00:00,  2.89it/s]\n",
            "100%|██████████| 20/20 [00:06<00:00,  3.00it/s]\n",
            "100%|██████████| 20/20 [00:06<00:00,  3.05it/s]\n"
          ]
        },
        {
          "output_type": "stream",
          "name": "stdout",
          "text": [
            "company yesterday microsoft security software windows today corp internet com china market apple computer service music google million state xp\n",
            "athens olympic week friday gold afp team says medal win games years olympics night president united men greece final american\n",
            "year monday government million old percent sales president second research profit market thursday time world bank report end billion quarter\n",
            "quot company says world president united yesterday athens olympic microsoft today gt time iraq friday lt monday night week minister\n",
            "ap monday wednesday thursday night friday tuesday time game bush officials iraq people saturday team sunday internet victory year president\n",
            "gt lt tuesday fullquote stocks com http ticker href www target investor quickinfo aspx york font corp washington world profit\n",
            "world iraq thursday york sunday second people najaf day city group iraqi al killed government win president saturday police tuesday\n",
            "ap time tuesday bush monday president wednesday sunday iraq game friday year night saturday years press york season just long\n",
            "ap friday monday night wednesday tuesday sunday year saturday world bush president team thursday iraq game victory 151 kerry people\n",
            "oil wednesday prices stocks iraq york crude higher record high monday friday price day thursday percent barrel china lt gt\n",
            "--------------------------------------------------------------------------------\n"
          ]
        },
        {
          "output_type": "stream",
          "name": "stderr",
          "text": [
            "100%|██████████| 20/20 [00:06<00:00,  3.06it/s]\n",
            "100%|██████████| 20/20 [00:06<00:00,  3.09it/s]\n",
            "100%|██████████| 20/20 [00:06<00:00,  3.19it/s]\n",
            "100%|██████████| 20/20 [00:06<00:00,  3.19it/s]\n",
            "100%|██████████| 20/20 [00:06<00:00,  3.21it/s]\n",
            "100%|██████████| 20/20 [00:06<00:00,  3.23it/s]\n",
            "100%|██████████| 20/20 [00:06<00:00,  3.24it/s]\n",
            "100%|██████████| 20/20 [00:06<00:00,  3.33it/s]\n",
            "100%|██████████| 20/20 [00:06<00:00,  3.31it/s]\n",
            "100%|██████████| 20/20 [00:06<00:00,  3.32it/s]\n"
          ]
        },
        {
          "output_type": "stream",
          "name": "stdout",
          "text": [
            "company yesterday microsoft security software windows today corp internet com market service google china apple computer music million xp state\n",
            "athens olympic gold week friday afp team medal says win games olympics years night president united men greece final american\n",
            "year monday million government old percent sales second president profit research market time thursday end world report billion bank quarter\n",
            "quot says company president world athens yesterday olympic united microsoft today time iraq gt lt night friday group gold minister\n",
            "ap monday wednesday night thursday friday tuesday time game bush officials saturday iraq team sunday people victory year president internet\n",
            "gt lt tuesday fullquote stocks com http ticker href www target investor quickinfo aspx york font corp washington profit face\n",
            "world iraq thursday york sunday people second najaf day city al iraqi group killed government win president tuesday police saturday\n",
            "ap time bush tuesday monday wednesday president sunday game iraq friday year saturday night press season years long just state\n",
            "ap friday monday night wednesday tuesday sunday year bush saturday world president team thursday game victory 151 iraq kerry john\n",
            "oil prices wednesday stocks iraq york crude higher record high monday price friday day barrel investors china percent thursday tuesday\n",
            "--------------------------------------------------------------------------------\n"
          ]
        },
        {
          "output_type": "stream",
          "name": "stderr",
          "text": [
            "100%|██████████| 20/20 [00:06<00:00,  3.30it/s]\n",
            "100%|██████████| 20/20 [00:06<00:00,  3.28it/s]\n",
            "100%|██████████| 20/20 [00:06<00:00,  3.29it/s]\n",
            "100%|██████████| 20/20 [00:06<00:00,  3.30it/s]\n",
            "100%|██████████| 20/20 [00:05<00:00,  3.35it/s]\n",
            "100%|██████████| 20/20 [00:05<00:00,  3.35it/s]\n",
            "100%|██████████| 20/20 [00:05<00:00,  3.35it/s]\n",
            "100%|██████████| 20/20 [00:05<00:00,  3.34it/s]\n",
            "100%|██████████| 20/20 [00:05<00:00,  3.35it/s]\n",
            "100%|██████████| 20/20 [00:05<00:00,  3.38it/s]\n"
          ]
        },
        {
          "output_type": "stream",
          "name": "stdout",
          "text": [
            "company yesterday microsoft software security windows today corp internet service google com market apple computer china music million xp announced\n",
            "athens olympic gold week friday afp team medal says games olympics win years night united men president greece final american\n",
            "year monday million government old percent sales second profit president research market time end thursday world quarter billion talks report\n",
            "quot says company president world athens olympic yesterday microsoft united today time iraq gt night lt group gold friday minister\n",
            "ap monday wednesday night thursday friday tuesday bush game time officials saturday iraq sunday team victory people year president york\n",
            "gt lt fullquote tuesday stocks com http ticker href www target investor quickinfo aspx york font corp washington profit face\n",
            "world iraq thursday york sunday people najaf second day al city iraqi group killed government win tuesday police cup president\n",
            "ap time bush tuesday wednesday monday president sunday game iraq friday saturday night year season press long years canadian state\n",
            "ap friday wednesday monday night sunday tuesday year bush saturday president world team game thursday victory 151 iraq kerry lead\n",
            "oil prices wednesday stocks iraq crude york record higher high price monday friday day barrel investors china percent tuesday thursday\n",
            "--------------------------------------------------------------------------------\n"
          ]
        },
        {
          "output_type": "stream",
          "name": "stderr",
          "text": [
            "100%|██████████| 20/20 [00:05<00:00,  3.35it/s]\n",
            "100%|██████████| 20/20 [00:05<00:00,  3.35it/s]\n",
            "100%|██████████| 20/20 [00:05<00:00,  3.34it/s]\n",
            "100%|██████████| 20/20 [00:05<00:00,  3.36it/s]\n",
            "100%|██████████| 20/20 [00:05<00:00,  3.35it/s]\n",
            "100%|██████████| 20/20 [00:05<00:00,  3.35it/s]\n",
            "100%|██████████| 20/20 [00:05<00:00,  3.35it/s]\n",
            "100%|██████████| 20/20 [00:05<00:00,  3.39it/s]\n",
            "100%|██████████| 20/20 [00:05<00:00,  3.38it/s]\n",
            "100%|██████████| 20/20 [00:05<00:00,  3.38it/s]\n"
          ]
        },
        {
          "output_type": "stream",
          "name": "stdout",
          "text": [
            "company yesterday microsoft software security windows today corp internet service google market com apple computer music xp million china announced\n",
            "athens olympic gold week friday afp team medal says games olympics win years united night men president greece saturday american\n",
            "year monday million government old percent sales profit second president research market end time quarter thursday world billion talks report\n",
            "quot says president company world athens olympic yesterday microsoft united today time iraq night gt group gold lt games minister\n",
            "ap monday wednesday night thursday friday tuesday bush game time officials saturday sunday iraq victory team people president year 151\n",
            "gt lt fullquote tuesday stocks http com ticker href www target investor quickinfo aspx york font corp profit washington face\n",
            "world iraq thursday york sunday people najaf second day al city iraqi group killed government tuesday win cup police end\n",
            "ap time bush tuesday wednesday monday president sunday game saturday friday iraq night season year press long canadian state victory\n",
            "ap friday wednesday night monday sunday tuesday year bush saturday president 151 game world victory team thursday iraq kerry lead\n",
            "oil prices wednesday stocks iraq crude york record higher high price monday friday barrel day investors china percent tuesday lower\n",
            "--------------------------------------------------------------------------------\n"
          ]
        },
        {
          "output_type": "stream",
          "name": "stderr",
          "text": [
            "100%|██████████| 20/20 [00:06<00:00,  3.32it/s]\n",
            "100%|██████████| 20/20 [00:06<00:00,  3.33it/s]\n",
            "100%|██████████| 20/20 [00:06<00:00,  3.29it/s]\n",
            "100%|██████████| 20/20 [00:05<00:00,  3.35it/s]\n",
            "100%|██████████| 20/20 [00:06<00:00,  3.32it/s]\n",
            "100%|██████████| 20/20 [00:06<00:00,  3.31it/s]\n",
            "100%|██████████| 20/20 [00:06<00:00,  3.30it/s]\n",
            "100%|██████████| 20/20 [00:06<00:00,  3.29it/s]\n",
            "100%|██████████| 20/20 [00:06<00:00,  3.28it/s]\n",
            "100%|██████████| 20/20 [00:06<00:00,  3.30it/s]\n"
          ]
        },
        {
          "output_type": "stream",
          "name": "stdout",
          "text": [
            "company yesterday microsoft software security windows today corp internet service google market com apple computer xp music million china business\n",
            "athens olympic gold week friday afp team medal says olympics games win united years night men president greece saturday american\n",
            "year monday million old government percent sales profit second president research market end time quarter billion thursday world talks report\n",
            "quot says president company world athens olympic yesterday microsoft united today time iraq night group gold gt lt games minister\n",
            "ap monday wednesday night thursday friday bush tuesday game time saturday officials sunday victory team iraq president people year 151\n",
            "gt lt fullquote tuesday stocks http com ticker href www target investor quickinfo aspx york font corp profit washington face\n",
            "world iraq thursday york sunday people najaf second day al city iraqi group killed government tuesday win cup police end\n",
            "ap time bush tuesday wednesday monday president sunday game saturday friday iraq season night press year long canadian state victory\n",
            "ap friday wednesday night monday sunday tuesday year bush saturday president 151 game victory team thursday world iraq kerry lead\n",
            "oil prices wednesday stocks iraq crude york record higher high price monday barrel friday day investors china lower tuesday percent\n",
            "--------------------------------------------------------------------------------\n"
          ]
        },
        {
          "output_type": "stream",
          "name": "stderr",
          "text": [
            "100%|██████████| 20/20 [00:06<00:00,  3.30it/s]\n",
            "100%|██████████| 20/20 [00:06<00:00,  3.29it/s]\n",
            "100%|██████████| 20/20 [00:06<00:00,  3.28it/s]\n",
            "100%|██████████| 20/20 [00:06<00:00,  3.09it/s]\n",
            "100%|██████████| 20/20 [00:06<00:00,  3.32it/s]\n",
            "100%|██████████| 20/20 [00:05<00:00,  3.36it/s]\n",
            "100%|██████████| 20/20 [00:06<00:00,  3.32it/s]\n",
            "100%|██████████| 20/20 [00:06<00:00,  3.30it/s]\n",
            "100%|██████████| 20/20 [00:06<00:00,  3.33it/s]\n",
            "100%|██████████| 20/20 [00:05<00:00,  3.35it/s]\n"
          ]
        },
        {
          "output_type": "stream",
          "name": "stdout",
          "text": [
            "company yesterday microsoft software security windows today corp internet service google market com apple computer xp million music china business\n",
            "athens olympic gold week friday afp team medal says olympics games win united years men night president greece saturday american\n",
            "year monday million old government percent profit sales second president research market end time quarter billion world thursday talks report\n",
            "quot says president company athens world olympic yesterday microsoft united time today iraq night gold group gt lt games minister\n",
            "ap monday wednesday night thursday friday bush tuesday game time saturday officials sunday victory team iraq president 151 year people\n",
            "gt lt fullquote tuesday stocks http com href ticker www target investor quickinfo aspx york font corp profit washington face\n",
            "world iraq thursday york sunday people najaf second day al city iraqi group killed government tuesday win cup police end\n",
            "ap time bush tuesday wednesday monday president sunday game saturday friday season iraq night press year long canadian state victory\n",
            "ap friday wednesday night monday sunday tuesday year bush saturday president 151 game victory team thursday world iraq kerry lead\n",
            "oil prices wednesday stocks iraq crude york record higher high price barrel monday friday day investors china lower tuesday percent\n",
            "--------------------------------------------------------------------------------\n"
          ]
        },
        {
          "output_type": "stream",
          "name": "stderr",
          "text": [
            "100%|██████████| 20/20 [00:06<00:00,  3.33it/s]\n",
            "100%|██████████| 20/20 [00:05<00:00,  3.35it/s]\n",
            "100%|██████████| 20/20 [00:05<00:00,  3.39it/s]\n",
            "100%|██████████| 20/20 [00:06<00:00,  3.31it/s]\n",
            "100%|██████████| 20/20 [00:05<00:00,  3.35it/s]\n",
            "100%|██████████| 20/20 [00:06<00:00,  3.30it/s]\n",
            "100%|██████████| 20/20 [00:05<00:00,  3.38it/s]\n",
            "100%|██████████| 20/20 [00:05<00:00,  3.41it/s]\n",
            "100%|██████████| 20/20 [00:05<00:00,  3.38it/s]\n",
            "100%|██████████| 20/20 [00:05<00:00,  3.37it/s]\n"
          ]
        },
        {
          "output_type": "stream",
          "name": "stdout",
          "text": [
            "company yesterday microsoft software security windows today corp internet service google market com apple computer million xp music business china\n",
            "athens olympic gold week friday afp medal team olympics games says united win years men night president greece saturday american\n",
            "year monday old million percent government profit sales second president research market end time quarter billion world thursday talks report\n",
            "quot says president company athens olympic world yesterday microsoft united time today iraq gold night group gt lt games minister\n",
            "ap monday wednesday night thursday friday bush tuesday game time saturday officials sunday victory team iraq 151 president year people\n",
            "gt lt fullquote tuesday stocks http com href ticker www target investor quickinfo aspx york font corp profit washington face\n",
            "world iraq thursday york sunday people najaf second day al city iraqi killed group government tuesday cup win police end\n",
            "ap time bush tuesday wednesday monday president sunday saturday game season friday night iraq press year long canadian google state\n",
            "ap friday wednesday night monday sunday tuesday bush year saturday 151 president game victory thursday team world kerry iraq lead\n",
            "oil prices wednesday stocks iraq crude york record higher high price barrel monday friday day investors china lower tuesday percent\n",
            "--------------------------------------------------------------------------------\n"
          ]
        },
        {
          "output_type": "stream",
          "name": "stderr",
          "text": [
            "100%|██████████| 20/20 [00:05<00:00,  3.39it/s]\n",
            "100%|██████████| 20/20 [00:05<00:00,  3.43it/s]\n",
            "100%|██████████| 20/20 [00:05<00:00,  3.37it/s]\n",
            "100%|██████████| 20/20 [00:05<00:00,  3.44it/s]\n",
            "100%|██████████| 20/20 [00:05<00:00,  3.37it/s]\n",
            "100%|██████████| 20/20 [00:05<00:00,  3.35it/s]\n",
            "100%|██████████| 20/20 [00:05<00:00,  3.38it/s]\n",
            "100%|██████████| 20/20 [00:05<00:00,  3.37it/s]\n",
            "100%|██████████| 20/20 [00:06<00:00,  3.30it/s]\n",
            "100%|██████████| 20/20 [00:06<00:00,  3.25it/s]\n"
          ]
        },
        {
          "output_type": "stream",
          "name": "stdout",
          "text": [
            "company yesterday microsoft software security windows today corp internet service google market com apple million computer xp music business china\n",
            "athens olympic gold week friday afp medal team olympics games says united win years men night greece president saturday american\n",
            "year monday old million percent government profit sales second president research market end time quarter billion world thursday talks report\n",
            "quot says president company athens olympic world yesterday microsoft united time iraq today gold night group games lt gt minister\n",
            "ap monday wednesday night thursday friday bush tuesday game time saturday sunday officials victory team iraq 151 president year people\n",
            "gt lt fullquote tuesday stocks http com href www ticker target investor quickinfo aspx york font corp profit washington face\n",
            "world iraq thursday york sunday people najaf second day al city iraqi killed group government tuesday cup win police end\n",
            "ap time bush tuesday wednesday monday president saturday sunday game season friday night press iraq year long canadian google state\n",
            "ap wednesday friday night monday sunday tuesday bush year saturday 151 president game victory thursday team world kerry iraq lead\n",
            "oil prices wednesday stocks iraq crude york record higher high price barrel monday friday day investors lower china tuesday percent\n",
            "--------------------------------------------------------------------------------\n"
          ]
        },
        {
          "output_type": "stream",
          "name": "stderr",
          "text": [
            "100%|██████████| 20/20 [00:06<00:00,  3.29it/s]\n",
            "100%|██████████| 20/20 [00:06<00:00,  3.28it/s]\n",
            "100%|██████████| 20/20 [00:06<00:00,  3.23it/s]\n",
            "100%|██████████| 20/20 [00:06<00:00,  3.23it/s]\n",
            "100%|██████████| 20/20 [00:06<00:00,  3.24it/s]\n",
            "100%|██████████| 20/20 [00:06<00:00,  3.28it/s]\n",
            "100%|██████████| 20/20 [00:06<00:00,  3.27it/s]\n",
            "100%|██████████| 20/20 [00:06<00:00,  3.19it/s]\n",
            "100%|██████████| 20/20 [00:06<00:00,  3.30it/s]\n",
            "100%|██████████| 20/20 [00:06<00:00,  3.25it/s]\n"
          ]
        },
        {
          "output_type": "stream",
          "name": "stdout",
          "text": [
            "company microsoft yesterday software security windows today corp internet service google market million apple com computer xp music business china\n",
            "athens olympic gold week friday afp medal team olympics games says united win years men night greece president saturday american\n",
            "year monday old million percent government profit sales second president research market end time quarter billion world thursday talks united\n",
            "quot says president company athens olympic world yesterday microsoft united time iraq today gold night group games lt gt minister\n",
            "ap monday wednesday night thursday friday bush game tuesday time saturday sunday officials victory team iraq 151 president year people\n",
            "gt lt fullquote tuesday stocks http com www href ticker target investor quickinfo aspx york font corp profit washington face\n",
            "world iraq thursday york sunday people najaf second day al iraqi city killed group government tuesday cup win police end\n",
            "ap time bush tuesday wednesday president monday saturday sunday season game friday night press iraq google year long canadian state\n",
            "ap wednesday friday night monday sunday tuesday bush year saturday 151 president game victory thursday team world kerry iraq lead\n",
            "oil prices wednesday stocks iraq crude york record higher high price barrel monday friday day investors lower tuesday china percent\n",
            "--------------------------------------------------------------------------------\n"
          ]
        },
        {
          "output_type": "stream",
          "name": "stderr",
          "text": [
            "100%|██████████| 20/20 [00:06<00:00,  3.29it/s]\n",
            "100%|██████████| 20/20 [00:06<00:00,  3.24it/s]\n",
            "100%|██████████| 20/20 [00:06<00:00,  3.24it/s]\n",
            "100%|██████████| 20/20 [00:06<00:00,  3.25it/s]\n",
            "100%|██████████| 20/20 [00:06<00:00,  3.23it/s]\n",
            "100%|██████████| 20/20 [00:06<00:00,  3.22it/s]\n",
            "100%|██████████| 20/20 [00:06<00:00,  3.21it/s]\n",
            "100%|██████████| 20/20 [00:06<00:00,  3.22it/s]\n",
            "100%|██████████| 20/20 [00:06<00:00,  3.18it/s]\n",
            "100%|██████████| 20/20 [00:06<00:00,  3.20it/s]\n"
          ]
        },
        {
          "output_type": "stream",
          "name": "stdout",
          "text": [
            "company microsoft yesterday software security windows today corp internet service google market million apple com computer xp business music announced\n",
            "athens olympic gold week friday afp medal team olympics games says united win years men night greece president saturday american\n",
            "year monday old million percent government profit second sales president market end research time quarter billion world thursday talks united\n",
            "quot says president athens company olympic world yesterday microsoft united time iraq today gold night group games lt gt minister\n",
            "ap monday wednesday night thursday friday bush game tuesday time saturday sunday officials victory team 151 iraq president year people\n",
            "gt lt fullquote tuesday http stocks com www href ticker target investor quickinfo aspx york font corp profit washington face\n",
            "world iraq thursday york sunday people najaf second day al iraqi city killed group government tuesday cup end police win\n",
            "ap time bush tuesday wednesday president monday saturday season sunday game night friday press google iraq year long canadian state\n",
            "ap wednesday friday night monday sunday tuesday bush year saturday 151 president game victory thursday team world kerry iraq lead\n",
            "oil prices wednesday stocks iraq crude york record higher high barrel price monday friday day investors lower tuesday china percent\n",
            "--------------------------------------------------------------------------------\n"
          ]
        },
        {
          "output_type": "stream",
          "name": "stderr",
          "text": [
            "100%|██████████| 20/20 [00:06<00:00,  3.03it/s]\n",
            "100%|██████████| 20/20 [00:06<00:00,  3.28it/s]\n",
            "100%|██████████| 20/20 [00:06<00:00,  3.29it/s]\n",
            "100%|██████████| 20/20 [00:06<00:00,  3.26it/s]\n",
            "100%|██████████| 20/20 [00:06<00:00,  3.29it/s]\n",
            "100%|██████████| 20/20 [00:06<00:00,  3.26it/s]\n",
            "100%|██████████| 20/20 [00:06<00:00,  3.24it/s]\n",
            "100%|██████████| 20/20 [00:06<00:00,  3.28it/s]\n",
            "100%|██████████| 20/20 [00:06<00:00,  3.31it/s]\n",
            "100%|██████████| 20/20 [00:06<00:00,  3.28it/s]\n"
          ]
        },
        {
          "output_type": "stream",
          "name": "stdout",
          "text": [
            "company microsoft yesterday software security windows today corp internet service google million market apple com computer xp business music update\n",
            "athens olympic gold week friday afp medal team olympics games says united win men years night greece president saturday american\n",
            "year monday old million percent government profit second sales president market end research quarter time billion world thursday talks united\n",
            "quot says president athens olympic company world yesterday microsoft united time iraq today gold night group games lt gt minister\n",
            "ap monday wednesday night friday thursday bush game tuesday time saturday sunday officials victory team 151 iraq president year people\n",
            "gt lt fullquote tuesday http stocks com www href ticker target investor quickinfo aspx york font corp profit washington face\n",
            "world iraq thursday york sunday people najaf second day al iraqi city killed government group tuesday cup end police win\n",
            "ap time bush tuesday wednesday president monday saturday season sunday night game friday google press iraq year long canadian home\n",
            "ap wednesday friday night monday sunday tuesday bush year saturday 151 president game victory thursday team world kerry iraq lead\n",
            "oil prices wednesday stocks iraq crude record york higher high barrel price monday friday day investors lower tuesday china percent\n",
            "--------------------------------------------------------------------------------\n"
          ]
        },
        {
          "output_type": "stream",
          "name": "stderr",
          "text": [
            "100%|██████████| 20/20 [00:06<00:00,  3.23it/s]\n",
            "100%|██████████| 20/20 [00:06<00:00,  3.22it/s]\n",
            "100%|██████████| 20/20 [00:06<00:00,  3.24it/s]\n",
            "100%|██████████| 20/20 [00:06<00:00,  3.23it/s]\n",
            "100%|██████████| 20/20 [00:06<00:00,  3.18it/s]\n",
            "100%|██████████| 20/20 [00:06<00:00,  3.17it/s]\n",
            "100%|██████████| 20/20 [00:06<00:00,  3.16it/s]\n",
            "100%|██████████| 20/20 [00:06<00:00,  3.14it/s]\n",
            "100%|██████████| 20/20 [00:06<00:00,  3.16it/s]\n",
            "100%|██████████| 20/20 [00:06<00:00,  3.16it/s]\n"
          ]
        },
        {
          "output_type": "stream",
          "name": "stdout",
          "text": [
            "company microsoft yesterday software security windows today corp internet service google million market apple com computer xp business music update\n",
            "athens olympic gold week friday afp medal team olympics games says united win men years night greece president saturday american\n",
            "year monday old million percent government profit second sales president end market research quarter time billion world thursday talks united\n",
            "quot says president athens olympic company world yesterday microsoft united time iraq today gold night group games lt gt minister\n",
            "ap monday wednesday night friday thursday bush game tuesday time saturday sunday officials victory 151 team iraq president year people\n",
            "gt lt fullquote tuesday http stocks com www href ticker target investor quickinfo aspx york font corp profit washington face\n",
            "world iraq thursday york sunday people najaf second day al iraqi city killed government group tuesday cup end police win\n",
            "ap time bush tuesday wednesday president monday saturday season night sunday game google friday press iraq year long canadian home\n",
            "ap wednesday friday night monday sunday tuesday bush year saturday 151 president game victory thursday team world kerry lead iraq\n",
            "oil prices wednesday stocks iraq crude record york higher high barrel price monday friday day investors lower tuesday china percent\n",
            "--------------------------------------------------------------------------------\n"
          ]
        },
        {
          "output_type": "stream",
          "name": "stderr",
          "text": [
            "100%|██████████| 20/20 [00:06<00:00,  3.16it/s]\n",
            "100%|██████████| 20/20 [00:06<00:00,  3.18it/s]\n",
            "100%|██████████| 20/20 [00:06<00:00,  3.18it/s]\n",
            "100%|██████████| 20/20 [00:06<00:00,  3.18it/s]\n",
            "100%|██████████| 20/20 [00:06<00:00,  3.25it/s]\n",
            "100%|██████████| 20/20 [00:06<00:00,  3.20it/s]\n",
            "100%|██████████| 20/20 [00:06<00:00,  3.19it/s]\n",
            "100%|██████████| 20/20 [00:06<00:00,  3.15it/s]\n",
            "100%|██████████| 20/20 [00:06<00:00,  3.18it/s]\n",
            "100%|██████████| 20/20 [00:06<00:00,  3.13it/s]\n"
          ]
        },
        {
          "output_type": "stream",
          "name": "stdout",
          "text": [
            "company microsoft yesterday software security windows today corp internet service google million market apple com computer xp business music update\n",
            "athens olympic gold week friday afp medal team olympics games united says win men years night greece president saturday american\n",
            "year monday old million percent government profit second sales president end market research quarter time billion world thursday united talks\n",
            "quot says president athens olympic company world yesterday microsoft united time iraq today gold night group games lt gt minister\n",
            "ap monday wednesday night friday thursday bush game tuesday time saturday sunday victory officials 151 team iraq president year people\n",
            "gt lt fullquote tuesday http stocks com www href ticker target investor quickinfo aspx york font corp profit washington face\n",
            "world iraq thursday york sunday people najaf second day al iraqi city killed government group tuesday cup end police win\n",
            "ap time bush tuesday wednesday president saturday monday season night sunday game google friday press iraq years long canadian year\n",
            "ap wednesday friday night monday sunday tuesday bush year saturday 151 president game victory thursday team world kerry lead iraq\n",
            "oil prices wednesday stocks iraq crude record york higher high barrel price monday friday day investors lower tuesday china percent\n",
            "--------------------------------------------------------------------------------\n"
          ]
        },
        {
          "output_type": "stream",
          "name": "stderr",
          "text": [
            "100%|██████████| 20/20 [00:06<00:00,  3.17it/s]\n",
            "100%|██████████| 20/20 [00:06<00:00,  3.16it/s]\n",
            "100%|██████████| 20/20 [00:06<00:00,  3.15it/s]\n",
            "100%|██████████| 20/20 [00:06<00:00,  3.19it/s]\n",
            "100%|██████████| 20/20 [00:06<00:00,  3.17it/s]\n",
            "100%|██████████| 20/20 [00:06<00:00,  3.16it/s]\n",
            "100%|██████████| 20/20 [00:06<00:00,  3.16it/s]\n",
            "100%|██████████| 20/20 [00:06<00:00,  3.17it/s]\n",
            "100%|██████████| 20/20 [00:06<00:00,  3.17it/s]\n",
            "100%|██████████| 20/20 [00:06<00:00,  3.22it/s]\n"
          ]
        },
        {
          "output_type": "stream",
          "name": "stdout",
          "text": [
            "company microsoft yesterday software security windows today corp internet service google million market apple computer com business xp music update\n",
            "athens olympic gold week friday afp medal team olympics games united says win men years night greece president saturday american\n",
            "year monday old million percent government profit second sales president end market research quarter time billion world thursday united talks\n",
            "quot says president athens olympic company world yesterday microsoft united time iraq today gold night group games lt gt minister\n",
            "ap monday wednesday night friday thursday bush game tuesday time saturday sunday victory officials 151 team iraq president year people\n",
            "gt lt fullquote tuesday http stocks com www href ticker target investor quickinfo aspx york font corp profit washington face\n",
            "world iraq thursday york sunday people najaf second day al iraqi city killed government group tuesday end cup police cleric\n",
            "ap time bush tuesday wednesday president saturday monday season night google game sunday friday press years iraq long canadian home\n",
            "ap wednesday friday night monday sunday tuesday bush year saturday 151 president game victory thursday team world kerry lead iraq\n",
            "oil prices wednesday stocks iraq crude record higher york high barrel price monday friday day investors lower tuesday china percent\n",
            "--------------------------------------------------------------------------------\n"
          ]
        },
        {
          "output_type": "stream",
          "name": "stderr",
          "text": [
            "100%|██████████| 20/20 [00:06<00:00,  3.24it/s]\n",
            "100%|██████████| 20/20 [00:05<00:00,  3.36it/s]\n",
            "100%|██████████| 20/20 [00:06<00:00,  3.28it/s]\n",
            "100%|██████████| 20/20 [00:06<00:00,  3.27it/s]\n",
            "100%|██████████| 20/20 [00:06<00:00,  3.29it/s]\n",
            "100%|██████████| 20/20 [00:06<00:00,  3.28it/s]\n",
            "100%|██████████| 20/20 [00:06<00:00,  3.33it/s]\n",
            "100%|██████████| 20/20 [00:05<00:00,  3.39it/s]\n",
            "100%|██████████| 20/20 [00:06<00:00,  3.16it/s]\n",
            " 75%|███████▌  | 15/20 [00:04<00:01,  3.35it/s]/usr/local/lib/python3.7/dist-packages/ipykernel_launcher.py:9: RuntimeWarning: invalid value encountered in true_divide\n",
            "  if __name__ == '__main__':\n",
            "100%|██████████| 20/20 [00:05<00:00,  3.36it/s]\n"
          ]
        },
        {
          "output_type": "stream",
          "name": "stdout",
          "text": [
            "company microsoft yesterday software security windows today corp internet service google million market apple computer business com xp music update\n",
            "athens olympic gold week friday afp medal team olympics games united says men win years night greece saturday president american\n",
            "year monday old percent million profit government second sales president end market quarter research time billion world thursday united talks\n",
            "quot says president athens olympic company world yesterday microsoft united time iraq today gold night group games lt gt minister\n",
            "ap monday wednesday night friday thursday bush game tuesday time saturday sunday victory officials 151 team iraq president year people\n",
            "gt lt fullquote tuesday http stocks com www href ticker target investor quickinfo aspx york font corp profit washington face\n",
            "world iraq thursday york sunday people najaf second day al iraqi city killed government group tuesday end cup police cleric\n",
            "ap time bush tuesday saturday president wednesday night season monday google game sunday years friday press iraq home long canadian\n",
            "ap wednesday friday night monday sunday tuesday bush year saturday 151 president game victory thursday team world kerry lead iraq\n",
            "oil prices wednesday stocks iraq crude record higher york high barrel price monday friday day investors lower tuesday china percent\n",
            "--------------------------------------------------------------------------------\n"
          ]
        },
        {
          "output_type": "stream",
          "name": "stderr",
          "text": [
            "100%|██████████| 20/20 [00:05<00:00,  3.38it/s]\n",
            "100%|██████████| 20/20 [00:05<00:00,  3.48it/s]\n",
            "100%|██████████| 20/20 [00:05<00:00,  3.46it/s]\n",
            "100%|██████████| 20/20 [00:05<00:00,  3.48it/s]\n",
            "100%|██████████| 20/20 [00:05<00:00,  3.51it/s]\n",
            "100%|██████████| 20/20 [00:05<00:00,  3.48it/s]\n",
            "100%|██████████| 20/20 [00:05<00:00,  3.47it/s]\n",
            "100%|██████████| 20/20 [00:05<00:00,  3.47it/s]\n",
            "100%|██████████| 20/20 [00:05<00:00,  3.50it/s]\n",
            "100%|██████████| 20/20 [00:05<00:00,  3.51it/s]\n"
          ]
        },
        {
          "output_type": "stream",
          "name": "stdout",
          "text": [
            "000 pop pope popular population porn port portable portfolio position positions positive possibility poor possible post posted posting postponed posts\n",
            "000 pop pope popular population porn port portable portfolio position positions positive possibility poor possible post posted posting postponed posts\n",
            "000 pop pope popular population porn port portable portfolio position positions positive possibility poor possible post posted posting postponed posts\n",
            "000 pop pope popular population porn port portable portfolio position positions positive possibility poor possible post posted posting postponed posts\n",
            "000 pop pope popular population porn port portable portfolio position positions positive possibility poor possible post posted posting postponed posts\n",
            "000 pop pope popular population porn port portable portfolio position positions positive possibility poor possible post posted posting postponed posts\n",
            "000 pop pope popular population porn port portable portfolio position positions positive possibility poor possible post posted posting postponed posts\n",
            "000 pop pope popular population porn port portable portfolio position positions positive possibility poor possible post posted posting postponed posts\n",
            "000 pop pope popular population porn port portable portfolio position positions positive possibility poor possible post posted posting postponed posts\n",
            "000 pop pope popular population porn port portable portfolio position positions positive possibility poor possible post posted posting postponed posts\n",
            "--------------------------------------------------------------------------------\n"
          ]
        },
        {
          "output_type": "stream",
          "name": "stderr",
          "text": [
            "100%|██████████| 20/20 [00:05<00:00,  3.47it/s]\n",
            "100%|██████████| 20/20 [00:05<00:00,  3.41it/s]\n",
            "100%|██████████| 20/20 [00:05<00:00,  3.38it/s]\n",
            "100%|██████████| 20/20 [00:05<00:00,  3.45it/s]\n",
            "100%|██████████| 20/20 [00:05<00:00,  3.40it/s]\n",
            "100%|██████████| 20/20 [00:05<00:00,  3.47it/s]\n",
            "100%|██████████| 20/20 [00:05<00:00,  3.46it/s]\n",
            "100%|██████████| 20/20 [00:05<00:00,  3.43it/s]\n",
            "100%|██████████| 20/20 [00:05<00:00,  3.42it/s]\n",
            " 75%|███████▌  | 15/20 [00:04<00:01,  3.08it/s]\n"
          ]
        },
        {
          "output_type": "error",
          "ename": "KeyboardInterrupt",
          "evalue": "ignored",
          "traceback": [
            "\u001b[0;31m---------------------------------------------------------------------------\u001b[0m",
            "\u001b[0;31mKeyboardInterrupt\u001b[0m                         Traceback (most recent call last)",
            "\u001b[0;32m<ipython-input-9-3c5a50576f9a>\u001b[0m in \u001b[0;36m<module>\u001b[0;34m()\u001b[0m\n\u001b[1;32m      9\u001b[0m     \u001b[0mtemp_theta\u001b[0m \u001b[0;34m=\u001b[0m \u001b[0mtemp_theta\u001b[0m \u001b[0;34m/\u001b[0m \u001b[0mtemp_theta\u001b[0m\u001b[0;34m.\u001b[0m\u001b[0msum\u001b[0m\u001b[0;34m(\u001b[0m\u001b[0;36m1\u001b[0m\u001b[0;34m,\u001b[0m \u001b[0mkeepdims\u001b[0m\u001b[0;34m=\u001b[0m\u001b[0;32mTrue\u001b[0m\u001b[0;34m)\u001b[0m\u001b[0;34m\u001b[0m\u001b[0;34m\u001b[0m\u001b[0m\n\u001b[1;32m     10\u001b[0m     \u001b[0mnew_theta\u001b[0m\u001b[0;34m[\u001b[0m\u001b[0mi\u001b[0m\u001b[0;34m:\u001b[0m\u001b[0mi\u001b[0m\u001b[0;34m+\u001b[0m\u001b[0mmb_size\u001b[0m\u001b[0;34m,\u001b[0m\u001b[0;34m:\u001b[0m\u001b[0;34m]\u001b[0m \u001b[0;34m=\u001b[0m \u001b[0mtemp_theta\u001b[0m\u001b[0;34m\u001b[0m\u001b[0;34m\u001b[0m\u001b[0m\n\u001b[0;32m---> 11\u001b[0;31m     \u001b[0mnew_phi\u001b[0m \u001b[0;34m+=\u001b[0m \u001b[0mpseudo_counts\u001b[0m\u001b[0;34m.\u001b[0m\u001b[0msum\u001b[0m\u001b[0;34m(\u001b[0m\u001b[0;36m0\u001b[0m\u001b[0;34m)\u001b[0m\u001b[0;34m.\u001b[0m\u001b[0mtranspose\u001b[0m\u001b[0;34m(\u001b[0m\u001b[0;34m)\u001b[0m\u001b[0;34m\u001b[0m\u001b[0;34m\u001b[0m\u001b[0m\n\u001b[0m\u001b[1;32m     12\u001b[0m   \u001b[0mtheta\u001b[0m \u001b[0;34m=\u001b[0m \u001b[0mnew_theta\u001b[0m\u001b[0;34m\u001b[0m\u001b[0;34m\u001b[0m\u001b[0m\n\u001b[1;32m     13\u001b[0m   \u001b[0mphi\u001b[0m \u001b[0;34m=\u001b[0m \u001b[0mnew_phi\u001b[0m \u001b[0;34m/\u001b[0m \u001b[0mnew_phi\u001b[0m\u001b[0;34m.\u001b[0m\u001b[0msum\u001b[0m\u001b[0;34m(\u001b[0m\u001b[0;36m1\u001b[0m\u001b[0;34m,\u001b[0m \u001b[0mkeepdims\u001b[0m\u001b[0;34m=\u001b[0m\u001b[0;32mTrue\u001b[0m\u001b[0;34m)\u001b[0m\u001b[0;34m\u001b[0m\u001b[0;34m\u001b[0m\u001b[0m\n",
            "\u001b[0;32m/usr/local/lib/python3.7/dist-packages/numpy/core/_methods.py\u001b[0m in \u001b[0;36m_sum\u001b[0;34m(a, axis, dtype, out, keepdims, initial, where)\u001b[0m\n\u001b[1;32m     46\u001b[0m def _sum(a, axis=None, dtype=None, out=None, keepdims=False,\n\u001b[1;32m     47\u001b[0m          initial=_NoValue, where=True):\n\u001b[0;32m---> 48\u001b[0;31m     \u001b[0;32mreturn\u001b[0m \u001b[0mumr_sum\u001b[0m\u001b[0;34m(\u001b[0m\u001b[0ma\u001b[0m\u001b[0;34m,\u001b[0m \u001b[0maxis\u001b[0m\u001b[0;34m,\u001b[0m \u001b[0mdtype\u001b[0m\u001b[0;34m,\u001b[0m \u001b[0mout\u001b[0m\u001b[0;34m,\u001b[0m \u001b[0mkeepdims\u001b[0m\u001b[0;34m,\u001b[0m \u001b[0minitial\u001b[0m\u001b[0;34m,\u001b[0m \u001b[0mwhere\u001b[0m\u001b[0;34m)\u001b[0m\u001b[0;34m\u001b[0m\u001b[0;34m\u001b[0m\u001b[0m\n\u001b[0m\u001b[1;32m     49\u001b[0m \u001b[0;34m\u001b[0m\u001b[0m\n\u001b[1;32m     50\u001b[0m def _prod(a, axis=None, dtype=None, out=None, keepdims=False,\n",
            "\u001b[0;31mKeyboardInterrupt\u001b[0m: "
          ]
        }
      ]
    },
    {
      "cell_type": "code",
      "source": [
        "for k in range(K):\n",
        "  print(' '.join(list(vocab[(- phi).argsort()[k,:30]])))\n",
        "print('-' * 80)"
      ],
      "metadata": {
        "id": "ybh_EywdpqwM"
      },
      "execution_count": null,
      "outputs": []
    },
    {
      "cell_type": "code",
      "source": [
        ""
      ],
      "metadata": {
        "id": "wPneXBeQtX4l"
      },
      "execution_count": null,
      "outputs": []
    }
  ]
}