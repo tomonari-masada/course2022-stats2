{
  "nbformat": 4,
  "nbformat_minor": 0,
  "metadata": {
    "colab": {
      "name": "02_PyMC3_1.ipynb",
      "provenance": [],
      "collapsed_sections": [],
      "authorship_tag": "ABX9TyO3/bNwzgBzYFgCLXKexnro",
      "include_colab_link": true
    },
    "kernelspec": {
      "name": "python3",
      "display_name": "Python 3"
    }
  },
  "cells": [
    {
      "cell_type": "markdown",
      "metadata": {
        "id": "view-in-github",
        "colab_type": "text"
      },
      "source": [
        "<a href=\"https://colab.research.google.com/github/tomonari-masada/course2022-stats2/blob/main/02_PyMC3_1.ipynb\" target=\"_parent\"><img src=\"https://colab.research.google.com/assets/colab-badge.svg\" alt=\"Open In Colab\"/></a>"
      ]
    },
    {
      "cell_type": "markdown",
      "metadata": {
        "id": "kPliufI5JIBN"
      },
      "source": [
        "# 2. PyMC3入門 (1)\n",
        "* 今回、PyMC3を解説するに当たっては、PyMC3の公式サイトを参考にした。\n",
        " * https://docs.pymc.io/en/v3/pymc-examples/examples/pymc3_howto/api_quickstart.html\n",
        "* 今日は、PyMC3の基本的な使い方だけ、説明します。\n",
        " * サンプリング結果の見方については、次回。"
      ]
    },
    {
      "cell_type": "markdown",
      "metadata": {
        "id": "aAmsZdwhg4tg"
      },
      "source": [
        "## 2.0 準備"
      ]
    },
    {
      "cell_type": "markdown",
      "metadata": {
        "id": "FJx0tbUNM9sF"
      },
      "source": [
        "* arvizは可視化ツール。"
      ]
    },
    {
      "cell_type": "code",
      "metadata": {
        "id": "L9GnKuyVKdzr",
        "colab": {
          "base_uri": "https://localhost:8080/"
        },
        "outputId": "17f0c5f9-4136-4be6-802b-d2f5c0b25153"
      },
      "source": [
        "# Google Colabの場合、このセルを実行する必要はないはず。\n",
        "!pip install arviz\n",
        "!pip install pymc3"
      ],
      "execution_count": 1,
      "outputs": [
        {
          "output_type": "stream",
          "name": "stdout",
          "text": [
            "Requirement already satisfied: arviz in /usr/local/lib/python3.7/dist-packages (0.11.4)\n",
            "Requirement already satisfied: scipy>=0.19 in /usr/local/lib/python3.7/dist-packages (from arviz) (1.4.1)\n",
            "Requirement already satisfied: netcdf4 in /usr/local/lib/python3.7/dist-packages (from arviz) (1.5.8)\n",
            "Requirement already satisfied: setuptools>=38.4 in /usr/local/lib/python3.7/dist-packages (from arviz) (57.4.0)\n",
            "Requirement already satisfied: pandas>=0.23 in /usr/local/lib/python3.7/dist-packages (from arviz) (1.3.5)\n",
            "Requirement already satisfied: xarray>=0.16.1 in /usr/local/lib/python3.7/dist-packages (from arviz) (0.18.2)\n",
            "Requirement already satisfied: typing-extensions<4,>=3.7.4.3 in /usr/local/lib/python3.7/dist-packages (from arviz) (3.10.0.2)\n",
            "Requirement already satisfied: packaging in /usr/local/lib/python3.7/dist-packages (from arviz) (21.3)\n",
            "Requirement already satisfied: matplotlib>=3.0 in /usr/local/lib/python3.7/dist-packages (from arviz) (3.2.2)\n",
            "Requirement already satisfied: numpy>=1.12 in /usr/local/lib/python3.7/dist-packages (from arviz) (1.21.5)\n",
            "Requirement already satisfied: cycler>=0.10 in /usr/local/lib/python3.7/dist-packages (from matplotlib>=3.0->arviz) (0.11.0)\n",
            "Requirement already satisfied: kiwisolver>=1.0.1 in /usr/local/lib/python3.7/dist-packages (from matplotlib>=3.0->arviz) (1.3.2)\n",
            "Requirement already satisfied: pyparsing!=2.0.4,!=2.1.2,!=2.1.6,>=2.0.1 in /usr/local/lib/python3.7/dist-packages (from matplotlib>=3.0->arviz) (3.0.7)\n",
            "Requirement already satisfied: python-dateutil>=2.1 in /usr/local/lib/python3.7/dist-packages (from matplotlib>=3.0->arviz) (2.8.2)\n",
            "Requirement already satisfied: pytz>=2017.3 in /usr/local/lib/python3.7/dist-packages (from pandas>=0.23->arviz) (2018.9)\n",
            "Requirement already satisfied: six>=1.5 in /usr/local/lib/python3.7/dist-packages (from python-dateutil>=2.1->matplotlib>=3.0->arviz) (1.15.0)\n",
            "Requirement already satisfied: cftime in /usr/local/lib/python3.7/dist-packages (from netcdf4->arviz) (1.5.2)\n",
            "Requirement already satisfied: pymc3 in /usr/local/lib/python3.7/dist-packages (3.11.4)\n",
            "Requirement already satisfied: scipy>=1.2.0 in /usr/local/lib/python3.7/dist-packages (from pymc3) (1.4.1)\n",
            "Requirement already satisfied: numpy>=1.15.0 in /usr/local/lib/python3.7/dist-packages (from pymc3) (1.21.5)\n",
            "Requirement already satisfied: cachetools>=4.2.1 in /usr/local/lib/python3.7/dist-packages (from pymc3) (4.2.4)\n",
            "Requirement already satisfied: pandas>=0.24.0 in /usr/local/lib/python3.7/dist-packages (from pymc3) (1.3.5)\n",
            "Requirement already satisfied: patsy>=0.5.1 in /usr/local/lib/python3.7/dist-packages (from pymc3) (0.5.2)\n",
            "Requirement already satisfied: arviz>=0.11.0 in /usr/local/lib/python3.7/dist-packages (from pymc3) (0.11.4)\n",
            "Requirement already satisfied: dill in /usr/local/lib/python3.7/dist-packages (from pymc3) (0.3.4)\n",
            "Requirement already satisfied: theano-pymc==1.1.2 in /usr/local/lib/python3.7/dist-packages (from pymc3) (1.1.2)\n",
            "Requirement already satisfied: fastprogress>=0.2.0 in /usr/local/lib/python3.7/dist-packages (from pymc3) (1.0.0)\n",
            "Requirement already satisfied: semver>=2.13.0 in /usr/local/lib/python3.7/dist-packages (from pymc3) (2.13.0)\n",
            "Requirement already satisfied: typing-extensions>=3.7.4 in /usr/local/lib/python3.7/dist-packages (from pymc3) (3.10.0.2)\n",
            "Requirement already satisfied: filelock in /usr/local/lib/python3.7/dist-packages (from theano-pymc==1.1.2->pymc3) (3.4.2)\n",
            "Requirement already satisfied: setuptools>=38.4 in /usr/local/lib/python3.7/dist-packages (from arviz>=0.11.0->pymc3) (57.4.0)\n",
            "Requirement already satisfied: netcdf4 in /usr/local/lib/python3.7/dist-packages (from arviz>=0.11.0->pymc3) (1.5.8)\n",
            "Requirement already satisfied: matplotlib>=3.0 in /usr/local/lib/python3.7/dist-packages (from arviz>=0.11.0->pymc3) (3.2.2)\n",
            "Requirement already satisfied: packaging in /usr/local/lib/python3.7/dist-packages (from arviz>=0.11.0->pymc3) (21.3)\n",
            "Requirement already satisfied: xarray>=0.16.1 in /usr/local/lib/python3.7/dist-packages (from arviz>=0.11.0->pymc3) (0.18.2)\n",
            "Requirement already satisfied: pyparsing!=2.0.4,!=2.1.2,!=2.1.6,>=2.0.1 in /usr/local/lib/python3.7/dist-packages (from matplotlib>=3.0->arviz>=0.11.0->pymc3) (3.0.7)\n",
            "Requirement already satisfied: cycler>=0.10 in /usr/local/lib/python3.7/dist-packages (from matplotlib>=3.0->arviz>=0.11.0->pymc3) (0.11.0)\n",
            "Requirement already satisfied: kiwisolver>=1.0.1 in /usr/local/lib/python3.7/dist-packages (from matplotlib>=3.0->arviz>=0.11.0->pymc3) (1.3.2)\n",
            "Requirement already satisfied: python-dateutil>=2.1 in /usr/local/lib/python3.7/dist-packages (from matplotlib>=3.0->arviz>=0.11.0->pymc3) (2.8.2)\n",
            "Requirement already satisfied: pytz>=2017.3 in /usr/local/lib/python3.7/dist-packages (from pandas>=0.24.0->pymc3) (2018.9)\n",
            "Requirement already satisfied: six in /usr/local/lib/python3.7/dist-packages (from patsy>=0.5.1->pymc3) (1.15.0)\n",
            "Requirement already satisfied: cftime in /usr/local/lib/python3.7/dist-packages (from netcdf4->arviz>=0.11.0->pymc3) (1.5.2)\n"
          ]
        }
      ]
    },
    {
      "cell_type": "code",
      "metadata": {
        "id": "w7wrYLCfJm0h"
      },
      "source": [
        "import numpy as np\n",
        "from matplotlib import pyplot as plt\n",
        "from IPython.core.pylabtools import figsize\n",
        "\n",
        "import arviz as az\n",
        "import pymc3 as pm\n",
        "\n",
        "%config InlineBackend.figure_format = 'retina'"
      ],
      "execution_count": 2,
      "outputs": []
    },
    {
      "cell_type": "code",
      "source": [
        "print(f\"Running on PyMC3 v{pm.__version__}\")\n",
        "print(f\"Running on ArviZ v{az.__version__}\")"
      ],
      "metadata": {
        "colab": {
          "base_uri": "https://localhost:8080/"
        },
        "id": "rUvh3Y-rh1ik",
        "outputId": "77d95e9f-dfa6-4d99-d83c-237a86e4948d"
      },
      "execution_count": 3,
      "outputs": [
        {
          "output_type": "stream",
          "name": "stdout",
          "text": [
            "Running on PyMC3 v3.11.4\n",
            "Running on ArviZ v0.11.4\n"
          ]
        }
      ]
    },
    {
      "cell_type": "markdown",
      "metadata": {
        "id": "aiIjpNdXFFDK"
      },
      "source": [
        "## 2.1 ベイズ的なデータのモデリング"
      ]
    },
    {
      "cell_type": "markdown",
      "metadata": {
        "id": "jCqtJ-6YYFXp"
      },
      "source": [
        "### 2.1.1 ベイズ的モデリングにおけるベイズ則\n",
        "* 観測データを$X$とする。具体的には、同じ次元のベクトルの集まり$X = \\{\\mathbf{x}_1, \\ldots, \\mathbf{x}_N\\}$を考える。\n",
        "* 観測データをモデル化する確率分布のパラメータを$\\theta$とする。パラメータの個数は複数でありうる。\n",
        "* 事後分布は、ベイズ則を使うと以下のように書ける。\n",
        "$$ p(\\theta | X) = \\frac{ p(X | \\theta) p(\\theta) }{ p(X) } $$\n",
        "* ベイズ的モデリングの最初の仕事は、事後分布$p(\\theta | X)$を知ろうとすることである。\n",
        " * MCMCは、事後分布から得たサンプルを通して、事後分布の姿を知ろうとする。\n",
        " * 変分ベイズ推論は、事後分布を近似する、別の扱いやすい分布を通して、事後分布の姿を知ろうとする。"
      ]
    },
    {
      "cell_type": "markdown",
      "metadata": {
        "id": "VbP57BIQCqmB"
      },
      "source": [
        "### 2.1.2 事後分布を知ることはどのくらい難しいか\n",
        "* 尤度関数$p(X|\\theta)$は、我々がデータをモデル化するのに使う分布を固定すれば、式で書ける。\n",
        "$$ p(X|\\theta) = \\prod_{i=1}^N p(\\mathbf{x}_i | \\theta) $$\n",
        "* 事前分布$p(\\theta)$も、どの分布にするかをよく考える必要はあるが、決めてしまえば、式で書ける。\n",
        "* ということは、$p(X|\\theta)$と$p(\\theta)$の積も、式で書ける。\n",
        "$$ p(X|\\theta) p(\\theta) = p(\\theta) \\prod_{i=1}^N p(\\mathbf{x}_i | \\theta) $$\n",
        "* しかし、この積が式で与えられていることと、事後分布を知っていることとの間には、多くの場合、**とてつもなく大きな隔たり**がある。\n",
        " * つまり、$p(X|\\theta) p(\\theta)$を知っていても、決して$p(\\theta|X)$を知っていることにはならない。\n",
        " * なぜなら、ベイズ則より$p(\\theta|X)=\\frac{ p(X | \\theta) p(\\theta) }{ p(X) }$であり、周辺尤度$p(X)$が分かっていないと、$p(\\theta|X)$は得られないからである。\n",
        " * そして、周辺尤度$p(X)$は、ほとんどの場合、それを計算することが非常に難しいからである。"
      ]
    },
    {
      "cell_type": "markdown",
      "metadata": {
        "id": "6z53xiugJIVI"
      },
      "source": [
        "### 2.1.3 MCMCはベイズ的モデリングだけに使うのではない\n",
        "* MCMCは、$p(X|\\theta) p(\\theta)$しか分からないときに、$p(\\theta|X)$を推論することを可能にしてくれる。\n",
        "* しかし、MCMCは、もっと広く適用可能な手法である。\n",
        "* MCMCは、規格化定数が分からない確率分布からのサンプリングを可能にしてくれる方法である。\n",
        " * 密度関数がそれに比例するところの関数が分かれば、MCMCを使って、対応する分布からのサンプルを得ることができる。\n",
        " * このようなMCMCを、ベイズ的なモデリングでは、事後分布を知ろうとするために使っている。\n",
        "$$ P(\\theta | X) \\propto P(X | \\theta) P(\\theta)$$"
      ]
    },
    {
      "cell_type": "markdown",
      "metadata": {
        "id": "BvfSL43kHhgM"
      },
      "source": [
        "### 2.1.4 確率分布からのサンプリングとは？\n",
        "* 例えば、区間$[0,1)$上に定義された一様分布からサンプリングすることは、どのぐらい難しいことなのだろうか？\n",
        " * 答：全然自明な作業ではない。（cf. [メルセンヌ・ツイスタ](https://ja.wikipedia.org/wiki/%E3%83%A1%E3%83%AB%E3%82%BB%E3%83%B3%E3%83%8C%E3%83%BB%E3%83%84%E3%82%A4%E3%82%B9%E3%82%BF)）\n",
        "* 一様乱数を発生させる乱数発生器をサブルーチンとして使えば、他の分布からのサンプリングも実装できる。\n",
        " * 例：[ボックス＝ミュラー法](https://ja.wikipedia.org/wiki/%E3%83%9C%E3%83%83%E3%82%AF%E3%82%B9%EF%BC%9D%E3%83%9F%E3%83%A5%E3%83%A9%E3%83%BC%E6%B3%95)\n",
        " * 例：[逆関数サンプリング法](https://ja.wikipedia.org/wiki/%E9%80%86%E9%96%A2%E6%95%B0%E6%B3%95)\n",
        "* これらに対し、MCMCは、特定の分布用に作られたサンプリング法ではない。\n",
        " * 様々な確率分布からのサンプリングを可能にする、汎用性のある手法である。"
      ]
    },
    {
      "cell_type": "markdown",
      "metadata": {
        "id": "NjyczrNSNaDs"
      },
      "source": [
        "* サンプリングについては、例えば、下記サイトの「Lecture 4 — Sampling」のスライドを参照のこと。\n",
        " * https://uni-tuebingen.de/fakultaeten/mathematisch-naturwissenschaftliche-fakultaet/fachbereiche/informatik/lehrstuehle/methoden-des-maschinellen-lernens/lehre/probabilistic-machine-learning/"
      ]
    },
    {
      "cell_type": "markdown",
      "metadata": {
        "id": "23dp0aRxfnAQ"
      },
      "source": [
        "## 2.2 PyMC3でモデルを作る"
      ]
    },
    {
      "cell_type": "markdown",
      "metadata": {
        "id": "KEiblWBOM0py"
      },
      "source": [
        "### 2.2.1 PyMC3における確率変数"
      ]
    },
    {
      "cell_type": "markdown",
      "metadata": {
        "id": "1CiP2s-6Mw4o"
      },
      "source": [
        "* PyMC3では、いきなり確率変数を作ることはできない。\n",
        " * パラメータが1の指数分布に従う確率変数を作ろうとして、下のセルを（「＃」を外して）実行すると、エラーが出るはず。"
      ]
    },
    {
      "cell_type": "code",
      "metadata": {
        "id": "bG5B1K0bJvRJ"
      },
      "source": [
        "# lambda_ = pm.Exponential(\"poisson_param\", 1)"
      ],
      "execution_count": 4,
      "outputs": []
    },
    {
      "cell_type": "markdown",
      "metadata": {
        "id": "pSQesi3dNVd7"
      },
      "source": [
        "* 確率変数は、いきなり作るのではなく、必ずモデルの中で作る。\n",
        " * あらかじめ空のインスタンスを作っておき、「with model:」というブロックを書くか、\n",
        " * いきなり「with pm.Model() as model:」というブロックを書くかの、いずれか。"
      ]
    },
    {
      "cell_type": "code",
      "metadata": {
        "id": "7ipneWn0lGER"
      },
      "source": [
        "model = pm.Model()\n",
        "with model:\n",
        "  lambda_ = pm.Exponential(\"poisson_param\", 1)"
      ],
      "execution_count": 5,
      "outputs": []
    },
    {
      "cell_type": "code",
      "metadata": {
        "id": "B36emCanlLHf"
      },
      "source": [
        "with pm.Model() as model:\n",
        "  lambda_ = pm.Exponential(\"poisson_param\", 1)"
      ],
      "execution_count": 6,
      "outputs": []
    },
    {
      "cell_type": "markdown",
      "metadata": {
        "id": "4IZsjts-LuXw"
      },
      "source": [
        "* 確率分布が作れたので、いきなりサンプリングしてみることもできる。\n",
        " * これは単に指数分布からのサンプリングで、何かの事後分布からのサンプリングではない。"
      ]
    },
    {
      "cell_type": "code",
      "metadata": {
        "colab": {
          "base_uri": "https://localhost:8080/",
          "height": 183
        },
        "id": "oyi-bmVDK-_Y",
        "outputId": "055624fc-0e62-4b11-c268-f35833744008"
      },
      "source": [
        "with model:\n",
        "  # サンプリングのアルゴリズムとしてメトロポリス法を使っている。\n",
        "  step = pm.Metropolis()\n",
        "  # 10,000個のサンプルを得るよう、指定している。\n",
        "  trace = pm.sample(10000, step=step)"
      ],
      "execution_count": 7,
      "outputs": [
        {
          "output_type": "stream",
          "name": "stderr",
          "text": [
            "/usr/local/lib/python3.7/dist-packages/ipykernel_launcher.py:5: FutureWarning: In v4.0, pm.sample will return an `arviz.InferenceData` object instead of a `MultiTrace` by default. You can pass return_inferencedata=True or return_inferencedata=False to be safe and silence this warning.\n",
            "  \"\"\"\n",
            "Sequential sampling (2 chains in 1 job)\n",
            "Metropolis: [poisson_param]\n"
          ]
        },
        {
          "output_type": "display_data",
          "data": {
            "text/html": [
              "\n",
              "    <div>\n",
              "        <style>\n",
              "            /* Turns off some styling */\n",
              "            progress {\n",
              "                /* gets rid of default border in Firefox and Opera. */\n",
              "                border: none;\n",
              "                /* Needs to be in here for Safari polyfill so background images work as expected. */\n",
              "                background-size: auto;\n",
              "            }\n",
              "            .progress-bar-interrupted, .progress-bar-interrupted::-webkit-progress-bar {\n",
              "                background: #F44336;\n",
              "            }\n",
              "        </style>\n",
              "      <progress value='11000' class='' max='11000' style='width:300px; height:20px; vertical-align: middle;'></progress>\n",
              "      100.00% [11000/11000 00:03<00:00 Sampling chain 0, 0 divergences]\n",
              "    </div>\n",
              "    "
            ],
            "text/plain": [
              "<IPython.core.display.HTML object>"
            ]
          },
          "metadata": {}
        },
        {
          "output_type": "display_data",
          "data": {
            "text/html": [
              "\n",
              "    <div>\n",
              "        <style>\n",
              "            /* Turns off some styling */\n",
              "            progress {\n",
              "                /* gets rid of default border in Firefox and Opera. */\n",
              "                border: none;\n",
              "                /* Needs to be in here for Safari polyfill so background images work as expected. */\n",
              "                background-size: auto;\n",
              "            }\n",
              "            .progress-bar-interrupted, .progress-bar-interrupted::-webkit-progress-bar {\n",
              "                background: #F44336;\n",
              "            }\n",
              "        </style>\n",
              "      <progress value='11000' class='' max='11000' style='width:300px; height:20px; vertical-align: middle;'></progress>\n",
              "      100.00% [11000/11000 00:01<00:00 Sampling chain 1, 0 divergences]\n",
              "    </div>\n",
              "    "
            ],
            "text/plain": [
              "<IPython.core.display.HTML object>"
            ]
          },
          "metadata": {}
        },
        {
          "output_type": "stream",
          "name": "stderr",
          "text": [
            "Sampling 2 chains for 1_000 tune and 10_000 draw iterations (2_000 + 20_000 draws total) took 5 seconds.\n",
            "The number of effective samples is smaller than 25% for some parameters.\n"
          ]
        }
      ]
    },
    {
      "cell_type": "markdown",
      "metadata": {
        "id": "NtQAZgr3L0gy"
      },
      "source": [
        "* ヒストグラムが指数分布の密度関数っぽい形かどうかを見てみる。"
      ]
    },
    {
      "cell_type": "code",
      "metadata": {
        "colab": {
          "base_uri": "https://localhost:8080/",
          "height": 171
        },
        "id": "ckaOMvT3LHPy",
        "outputId": "784c2252-6372-4a5c-c5e9-a51fa36d5b6c"
      },
      "source": [
        "with model:\n",
        "  az.plot_trace(trace)"
      ],
      "execution_count": 8,
      "outputs": [
        {
          "output_type": "display_data",
          "data": {
            "image/png": "[encoded data removed]",
            "text/plain": [
              "<Figure size 864x144 with 2 Axes>"
            ]
          },
          "metadata": {
            "image/png": {
              "width": 687,
              "height": 154
            },
            "needs_background": "light"
          }
        }
      ]
    },
    {
      "cell_type": "markdown",
      "metadata": {
        "id": "cpEG2Een8mLo"
      },
      "source": [
        "* この結果をどう見るかについては、次回。"
      ]
    },
    {
      "cell_type": "markdown",
      "metadata": {
        "id": "T5pXZ9FUKwbf"
      },
      "source": [
        "### 2.2.2 観測データのベイズ的なモデリングの例\n",
        "* データモデルとして用意したベイズ的な確率モデルを、与えられた観測データに当てはめてみる例を、下に示す。"
      ]
    },
    {
      "cell_type": "markdown",
      "metadata": {
        "id": "zY1s7QeKMARm"
      },
      "source": [
        "* ベイズ的なモデリングでは、最尤推定やMAP推定のように、モデルのパラメータの値を決め打ちで求めるのではない。\n",
        "* パラメータ$\\theta$の条件付き確率分布である、事後分布$P(\\theta|X)$を求める。\n",
        " * 事後分布は、観測データ$X$を所与とする、条件付き確率分布になっている。\n",
        " * もちろん、事前分布$P(\\theta)$をあらかじめ設定しておく必要がある。"
      ]
    },
    {
      "cell_type": "markdown",
      "metadata": {
        "id": "LsLMByYqSfVj"
      },
      "source": [
        "* 下のモデルは、まず、平均パラメータが0で標準偏差パラメータが1の正規分布に従う、unobservedな確率変数`mu`を持っている。\n",
        " * この正規分布は、平均パラメータが従う事前分布である。\n",
        "* そして、平均パラメータが確率変数`mu`で標準偏差パラメータが1の正規分布に従う、observedな確率変数`obs`を持っている。\n",
        " * この正規分布は、データを直接モデリングする確率分布である。\n",
        "* 観測データとしては、人工的に作ったデータを使っている。\n",
        " * ここでは、100個の正規乱数を使っている。"
      ]
    },
    {
      "cell_type": "code",
      "metadata": {
        "id": "XV2yhorQMc81"
      },
      "source": [
        "model = pm.Model()\n",
        "with model:\n",
        "  mu = pm.Normal(\"mu\", mu=0, sigma=1)\n",
        "  obs = pm.Normal(\"obs\", mu=mu, sigma=1, observed=np.random.randn(100))"
      ],
      "execution_count": 9,
      "outputs": []
    },
    {
      "cell_type": "markdown",
      "metadata": {
        "id": "hyudb0vCi-jp"
      },
      "source": [
        "* いま定義したモデルを数式で書くと、以下のようになる。\n",
        "$$ \\mu \\sim N(0, 1) $$\n",
        "$$ x \\sim N(\\mu, 1) $$\n"
      ]
    },
    {
      "cell_type": "markdown",
      "metadata": {
        "id": "9E1eeMR4dWOj"
      },
      "source": [
        "* notebook環境でPyMC3を使っているときは、以下のように、確率変数がどんな分布に従うかを簡単に確認できる。"
      ]
    },
    {
      "cell_type": "code",
      "metadata": {
        "colab": {
          "base_uri": "https://localhost:8080/",
          "height": 38
        },
        "id": "IYBPievIdODF",
        "outputId": "15d82e2e-8eb8-4f89-8b56-cb30ac9e5c28"
      },
      "source": [
        "mu"
      ],
      "execution_count": 10,
      "outputs": [
        {
          "output_type": "execute_result",
          "data": {
            "text/latex": "$\\text{mu} \\sim \\text{Normal}(\\mathit{mu}=0.0,~\\mathit{sigma}=1.0)$",
            "text/plain": [
              "mu ~ Normal"
            ]
          },
          "metadata": {},
          "execution_count": 10
        }
      ]
    },
    {
      "cell_type": "markdown",
      "metadata": {
        "id": "RDRCiptFjWqQ"
      },
      "source": [
        "* 確率変数には、その名前を使ってアクセスすることもできる。"
      ]
    },
    {
      "cell_type": "code",
      "metadata": {
        "colab": {
          "base_uri": "https://localhost:8080/",
          "height": 38
        },
        "id": "SKqV4YBcTAfa",
        "outputId": "5a921d71-fe42-4a61-b40c-06edea63b98b"
      },
      "source": [
        "model.named_vars[\"mu\"]"
      ],
      "execution_count": 11,
      "outputs": [
        {
          "output_type": "execute_result",
          "data": {
            "text/latex": "$\\text{mu} \\sim \\text{Normal}(\\mathit{mu}=0.0,~\\mathit{sigma}=1.0)$",
            "text/plain": [
              "mu ~ Normal"
            ]
          },
          "metadata": {},
          "execution_count": 11
        }
      ]
    },
    {
      "cell_type": "code",
      "metadata": {
        "colab": {
          "base_uri": "https://localhost:8080/",
          "height": 38
        },
        "id": "I9z4kN9LdPkh",
        "outputId": "05ad03a8-33a8-496a-8385-2a0063f40e0b"
      },
      "source": [
        "obs"
      ],
      "execution_count": 12,
      "outputs": [
        {
          "output_type": "execute_result",
          "data": {
            "text/latex": "$\\text{obs} \\sim \\text{Normal}(\\mathit{mu}=\\text{mu},~\\mathit{sigma}=1.0)$",
            "text/plain": [
              "obs ~ Normal"
            ]
          },
          "metadata": {},
          "execution_count": 12
        }
      ]
    },
    {
      "cell_type": "code",
      "metadata": {
        "colab": {
          "base_uri": "https://localhost:8080/",
          "height": 38
        },
        "id": "Yxq_0L6hTTHR",
        "outputId": "485167c1-cc31-4b39-f2f7-6b739ad44d55"
      },
      "source": [
        "model.named_vars[\"obs\"]"
      ],
      "execution_count": 13,
      "outputs": [
        {
          "output_type": "execute_result",
          "data": {
            "text/latex": "$\\text{obs} \\sim \\text{Normal}(\\mathit{mu}=\\text{mu},~\\mathit{sigma}=1.0)$",
            "text/plain": [
              "obs ~ Normal"
            ]
          },
          "metadata": {},
          "execution_count": 13
        }
      ]
    },
    {
      "cell_type": "markdown",
      "metadata": {
        "id": "D06jV7RRdgRW"
      },
      "source": [
        "* PyMC3の確率変数(RV: random variable)には以下の2種類がある。\n",
        "cf. https://docs.pymc.io/api/variables.html\n",
        "\n",
        "\n",
        "1.   Free (= Unobserved) RVs that a model is specified in terms of. \n",
        "2.   Observed RVs that a model is specified in terms of. Potentially partially observed.\n",
        "\n"
      ]
    },
    {
      "cell_type": "code",
      "metadata": {
        "colab": {
          "base_uri": "https://localhost:8080/"
        },
        "id": "Ob7bCmGopJm1",
        "outputId": "c3c6738f-9e25-4acd-fdf6-51e2004e5e51"
      },
      "source": [
        "model.free_RVs"
      ],
      "execution_count": 14,
      "outputs": [
        {
          "output_type": "execute_result",
          "data": {
            "text/plain": [
              "[mu ~ Normal]"
            ]
          },
          "metadata": {},
          "execution_count": 14
        }
      ]
    },
    {
      "cell_type": "code",
      "metadata": {
        "colab": {
          "base_uri": "https://localhost:8080/"
        },
        "id": "2PDCycxOpLqq",
        "outputId": "f695898b-eab2-400e-e7eb-85b79bc89c15"
      },
      "source": [
        "model.observed_RVs"
      ],
      "execution_count": 15,
      "outputs": [
        {
          "output_type": "execute_result",
          "data": {
            "text/plain": [
              "[obs ~ Normal]"
            ]
          },
          "metadata": {},
          "execution_count": 15
        }
      ]
    },
    {
      "cell_type": "markdown",
      "metadata": {
        "id": "8TZNnV9DgdV9"
      },
      "source": [
        "### 2.2.3 log probabilityの計算*"
      ]
    },
    {
      "cell_type": "markdown",
      "metadata": {
        "id": "xl8w-uTupkCY"
      },
      "source": [
        "* 観測データを100個指定しているので、`mu`を特定の値に固定することでlog probabilityを計算することができる。\n",
        " * `logp`は、後で見るように、同時分布$p(X,\\theta)$の密度関数の対数を表す。"
      ]
    },
    {
      "cell_type": "markdown",
      "source": [
        "* ここでは`mu`の値を0にセットしてみる。"
      ],
      "metadata": {
        "id": "OuB5EfY6j5DS"
      }
    },
    {
      "cell_type": "code",
      "metadata": {
        "colab": {
          "base_uri": "https://localhost:8080/"
        },
        "id": "UJTktNIMpSNs",
        "outputId": "003a5fb1-efda-4a05-8c40-9bc5afa23864"
      },
      "source": [
        "model.logp({\"mu\": 0})"
      ],
      "execution_count": 16,
      "outputs": [
        {
          "output_type": "execute_result",
          "data": {
            "text/plain": [
              "array(-140.72835258)"
            ]
          },
          "metadata": {},
          "execution_count": 16
        }
      ]
    },
    {
      "cell_type": "code",
      "metadata": {
        "colab": {
          "base_uri": "https://localhost:8080/"
        },
        "id": "wz4bgDS9ppQ3",
        "outputId": "941cd218-42ec-4b09-f0b1-9dce74392657"
      },
      "source": [
        "model.logp({mu: 0})"
      ],
      "execution_count": 17,
      "outputs": [
        {
          "output_type": "execute_result",
          "data": {
            "text/plain": [
              "array(-140.72835258)"
            ]
          },
          "metadata": {},
          "execution_count": 17
        }
      ]
    },
    {
      "cell_type": "markdown",
      "metadata": {
        "id": "ZgWxszvEsbRO"
      },
      "source": [
        "* 下のセルの計算で、`model.logp({\"mu\": 0})`と同じ答えを得ることができているのは、なぜか。説明してみよう。"
      ]
    },
    {
      "cell_type": "code",
      "metadata": {
        "colab": {
          "base_uri": "https://localhost:8080/"
        },
        "id": "8fK5-a0Opvh5",
        "outputId": "704c5051-db32-4cd4-a594-d00660aad810"
      },
      "source": [
        "from scipy.stats import norm\n",
        "\n",
        "print(np.log(norm().pdf(obs.observations)).sum() + np.log(norm().pdf(0)))"
      ],
      "execution_count": 18,
      "outputs": [
        {
          "output_type": "stream",
          "name": "stdout",
          "text": [
            "-140.72835258209005\n"
          ]
        }
      ]
    },
    {
      "cell_type": "markdown",
      "metadata": {
        "id": "rVimjgl6xmc1"
      },
      "source": [
        "### 2.2.4 確率変数の初期値"
      ]
    },
    {
      "cell_type": "markdown",
      "metadata": {
        "id": "ootFpJ2GTpxI"
      },
      "source": [
        "* モデルに属するそれぞれの確率変数は、適当な初期値を設定されている。\n",
        " * この初期値は、サンプリングの出発点として用いられる。"
      ]
    },
    {
      "cell_type": "code",
      "metadata": {
        "colab": {
          "base_uri": "https://localhost:8080/"
        },
        "id": "UA3Ljl1UmfYl",
        "outputId": "c3fa2534-94c2-4994-d525-2c42bd1e4526"
      },
      "source": [
        "mu.tag.test_value"
      ],
      "execution_count": 19,
      "outputs": [
        {
          "output_type": "execute_result",
          "data": {
            "text/plain": [
              "array(0.)"
            ]
          },
          "metadata": {},
          "execution_count": 19
        }
      ]
    },
    {
      "cell_type": "markdown",
      "metadata": {
        "id": "7pVxiIT2Zix9"
      },
      "source": [
        "* 観測されている確率変数の値は、設定された観測データと同じ値に初期化されている。"
      ]
    },
    {
      "cell_type": "code",
      "metadata": {
        "colab": {
          "base_uri": "https://localhost:8080/"
        },
        "id": "IHS54Ynsmh_X",
        "outputId": "855d8db4-8539-4976-a953-c5c98559dcba"
      },
      "source": [
        "obs.tag.test_value"
      ],
      "execution_count": 20,
      "outputs": [
        {
          "output_type": "execute_result",
          "data": {
            "text/plain": [
              "array([-1.42738821e+00,  2.00427816e-01,  6.52423836e-04,  3.02562356e-01,\n",
              "        1.00622055e+00, -1.88108450e+00,  1.16968547e+00, -4.35256329e-01,\n",
              "        3.38079151e-01,  1.71616430e+00,  6.76291360e-01, -1.04332586e+00,\n",
              "        2.78552577e+00, -1.14064680e+00,  3.52580638e-01,  6.92889758e-03,\n",
              "        3.70143934e-02,  1.17641089e+00, -6.86532471e-03,  4.87609349e-01,\n",
              "        1.25882273e+00, -1.38607891e+00, -3.96581632e-01, -7.48167672e-02,\n",
              "       -1.25118636e+00, -1.14554866e+00, -3.78544283e-01, -1.95922675e-01,\n",
              "        9.23226135e-01,  1.29006082e+00,  8.87829909e-03,  1.82720109e-02,\n",
              "       -1.78032750e-02,  1.60558631e+00,  7.04684385e-01,  1.56500760e+00,\n",
              "        4.89727676e-01, -1.13009919e-01,  6.30116921e-02,  1.80035157e+00,\n",
              "       -2.51291813e-01,  3.86470408e-01, -1.09138525e+00,  9.73250356e-01,\n",
              "        1.10839883e+00, -6.43056182e-01,  9.68136421e-02, -9.96118649e-01,\n",
              "        3.70203149e-01, -2.23366833e-01, -3.34852977e-01,  2.80785999e-01,\n",
              "        1.05958030e+00,  5.87045138e-01, -1.13209145e-01, -1.65266409e+00,\n",
              "        8.12409464e-02,  1.12062041e+00,  8.14662473e-01,  6.82192212e-02,\n",
              "        1.78483852e+00, -1.22437493e-01, -1.35990554e+00, -3.25535934e-01,\n",
              "       -4.30091487e-01, -2.49805377e-01,  4.17086742e-01, -5.23593864e-02,\n",
              "        1.82602052e+00,  1.04771862e+00,  1.09253520e+00, -1.84613288e+00,\n",
              "        1.36608982e+00, -1.44246271e-01, -1.47852000e+00,  1.01358889e+00,\n",
              "        2.18704486e+00,  1.43333031e+00, -9.71948553e-02,  6.62053431e-02,\n",
              "        9.14749221e-01, -3.76007019e-01, -2.73253712e-01, -8.03517058e-01,\n",
              "        4.18848962e-01, -7.39651342e-01,  1.06545863e+00,  3.09242450e-01,\n",
              "        1.01482422e+00, -6.17106370e-01, -2.25191578e+00,  1.29224071e+00,\n",
              "       -8.47712315e-02, -4.77271582e-01,  6.30942104e-02,  1.41530604e-01,\n",
              "       -2.31449251e-02, -6.44876892e-01,  1.24245407e+00,  1.33050138e+00])"
            ]
          },
          "metadata": {},
          "execution_count": 20
        }
      ]
    },
    {
      "cell_type": "code",
      "metadata": {
        "colab": {
          "base_uri": "https://localhost:8080/"
        },
        "id": "PUxibX1Pq9EK",
        "outputId": "5f58953f-bd21-45fa-f0fb-82ada16da17a"
      },
      "source": [
        "obs.observations"
      ],
      "execution_count": 21,
      "outputs": [
        {
          "output_type": "execute_result",
          "data": {
            "text/plain": [
              "array([-1.42738821e+00,  2.00427816e-01,  6.52423836e-04,  3.02562356e-01,\n",
              "        1.00622055e+00, -1.88108450e+00,  1.16968547e+00, -4.35256329e-01,\n",
              "        3.38079151e-01,  1.71616430e+00,  6.76291360e-01, -1.04332586e+00,\n",
              "        2.78552577e+00, -1.14064680e+00,  3.52580638e-01,  6.92889758e-03,\n",
              "        3.70143934e-02,  1.17641089e+00, -6.86532471e-03,  4.87609349e-01,\n",
              "        1.25882273e+00, -1.38607891e+00, -3.96581632e-01, -7.48167672e-02,\n",
              "       -1.25118636e+00, -1.14554866e+00, -3.78544283e-01, -1.95922675e-01,\n",
              "        9.23226135e-01,  1.29006082e+00,  8.87829909e-03,  1.82720109e-02,\n",
              "       -1.78032750e-02,  1.60558631e+00,  7.04684385e-01,  1.56500760e+00,\n",
              "        4.89727676e-01, -1.13009919e-01,  6.30116921e-02,  1.80035157e+00,\n",
              "       -2.51291813e-01,  3.86470408e-01, -1.09138525e+00,  9.73250356e-01,\n",
              "        1.10839883e+00, -6.43056182e-01,  9.68136421e-02, -9.96118649e-01,\n",
              "        3.70203149e-01, -2.23366833e-01, -3.34852977e-01,  2.80785999e-01,\n",
              "        1.05958030e+00,  5.87045138e-01, -1.13209145e-01, -1.65266409e+00,\n",
              "        8.12409464e-02,  1.12062041e+00,  8.14662473e-01,  6.82192212e-02,\n",
              "        1.78483852e+00, -1.22437493e-01, -1.35990554e+00, -3.25535934e-01,\n",
              "       -4.30091487e-01, -2.49805377e-01,  4.17086742e-01, -5.23593864e-02,\n",
              "        1.82602052e+00,  1.04771862e+00,  1.09253520e+00, -1.84613288e+00,\n",
              "        1.36608982e+00, -1.44246271e-01, -1.47852000e+00,  1.01358889e+00,\n",
              "        2.18704486e+00,  1.43333031e+00, -9.71948553e-02,  6.62053431e-02,\n",
              "        9.14749221e-01, -3.76007019e-01, -2.73253712e-01, -8.03517058e-01,\n",
              "        4.18848962e-01, -7.39651342e-01,  1.06545863e+00,  3.09242450e-01,\n",
              "        1.01482422e+00, -6.17106370e-01, -2.25191578e+00,  1.29224071e+00,\n",
              "       -8.47712315e-02, -4.77271582e-01,  6.30942104e-02,  1.41530604e-01,\n",
              "       -2.31449251e-02, -6.44876892e-01,  1.24245407e+00,  1.33050138e+00])"
            ]
          },
          "metadata": {},
          "execution_count": 21
        }
      ]
    },
    {
      "cell_type": "markdown",
      "metadata": {
        "id": "34s_ahsjgOMi"
      },
      "source": [
        "* 確率変数の初期値は、以下のようにして手動で設定することもできる。"
      ]
    },
    {
      "cell_type": "code",
      "metadata": {
        "colab": {
          "base_uri": "https://localhost:8080/"
        },
        "id": "gLIfK8nxehC_",
        "outputId": "cd4bdd35-71a0-4766-bda3-cdd1bf93850e"
      },
      "source": [
        "with model:\n",
        "  parameter = pm.Exponential(\"poisson_param\", 1.0, testval=0.5)\n",
        "\n",
        "print(\"parameter.tag.test_value =\", parameter.tag.test_value)"
      ],
      "execution_count": 22,
      "outputs": [
        {
          "output_type": "stream",
          "name": "stdout",
          "text": [
            "parameter.tag.test_value = 0.5\n"
          ]
        }
      ]
    },
    {
      "cell_type": "markdown",
      "metadata": {
        "id": "oe3hxl4DyEcB"
      },
      "source": [
        "### 2.2.5 多次元の確率変数\n",
        "* 同じ分布に従う複数の確率変数を一挙に作ることもできる。\n"
      ]
    },
    {
      "cell_type": "markdown",
      "metadata": {
        "id": "5YwLKDA6iZWr"
      },
      "source": [
        "* 確率変数のリストを作ることは推奨されていない。\n",
        " * https://docs.pymc.io/en/v3/pymc-examples/examples/pymc3_howto/api_quickstart.html#Lists-of-RVs-/-higher-dimensional-RVs"
      ]
    },
    {
      "cell_type": "code",
      "metadata": {
        "id": "VMWrreicHTP5"
      },
      "source": [
        "with pm.Model():\n",
        "  # bad:\n",
        "  x = [pm.Normal(f\"x_{i}\", mu=0, sigma=1) for i in range(10)]"
      ],
      "execution_count": 23,
      "outputs": []
    },
    {
      "cell_type": "markdown",
      "source": [
        "* キーワード引数`shape`で個数(or 形)を指定する方法が推奨されている。"
      ],
      "metadata": {
        "id": "wBwsWjogkofQ"
      }
    },
    {
      "cell_type": "code",
      "metadata": {
        "id": "ttxDEGTAiYRg"
      },
      "source": [
        "with pm.Model() as model:\n",
        "  # good:\n",
        "  x = pm.Normal(\"x\", mu=0, sigma=1, shape=10)"
      ],
      "execution_count": 24,
      "outputs": []
    },
    {
      "cell_type": "code",
      "metadata": {
        "colab": {
          "base_uri": "https://localhost:8080/"
        },
        "id": "nFlBERDWihCg",
        "outputId": "a4fc1f55-8905-494e-f423-8556a445fc09"
      },
      "source": [
        "x.tag.test_value"
      ],
      "execution_count": 25,
      "outputs": [
        {
          "output_type": "execute_result",
          "data": {
            "text/plain": [
              "array([0., 0., 0., 0., 0., 0., 0., 0., 0., 0.])"
            ]
          },
          "metadata": {},
          "execution_count": 25
        }
      ]
    },
    {
      "cell_type": "code",
      "metadata": {
        "colab": {
          "base_uri": "https://localhost:8080/",
          "height": 38
        },
        "id": "A6_zvY5Uj2Lz",
        "outputId": "dc7c0a4e-63df-4b5d-9a44-4b062339941d"
      },
      "source": [
        "x"
      ],
      "execution_count": 26,
      "outputs": [
        {
          "output_type": "execute_result",
          "data": {
            "text/latex": "$\\text{x} \\sim \\text{Normal}(\\mathit{mu}=0.0,~\\mathit{sigma}=1.0)$",
            "text/plain": [
              "x ~ Normal"
            ]
          },
          "metadata": {},
          "execution_count": 26
        }
      ]
    },
    {
      "cell_type": "markdown",
      "metadata": {
        "id": "wcyUhuo2aSro"
      },
      "source": [
        "## 2.3 PyMC3で使える確率分布\n",
        "* https://docs.pymc.io/en/v3/pymc-examples/examples/pymc3_howto/api_quickstart.html#2.-Probability-Distributions"
      ]
    },
    {
      "cell_type": "markdown",
      "metadata": {
        "id": "4dv232Ruahja"
      },
      "source": [
        "### 2.3.1 PyMC3におけるprobabilistic programの構成\n",
        "* どんなprobabilistic programも、観測確率変数と潜在確率変数とから成る。\n",
        " * 観測確率変数は、尤度分布によって定義される。\n",
        " * 潜在確率変数は、事前分布によって定義される。\n"
      ]
    },
    {
      "cell_type": "markdown",
      "metadata": {
        "id": "t_rafX2JIn65"
      },
      "source": [
        "* PyMC3で使える分布は、以下の通り。\n",
        " * 単変量連続分布 https://docs.pymc.io/api/distributions/continuous.html\n",
        " * 単変量離散分布 https://docs.pymc.io/api/distributions/discrete.html\n",
        " * 多変量分布 https://docs.pymc.io/api/distributions/multivariate.html\n",
        " * 混合分布　https://docs.pymc.io/api/distributions/mixture.html"
      ]
    },
    {
      "cell_type": "markdown",
      "metadata": {
        "id": "2tCBsV1KaWnf"
      },
      "source": [
        "* `help`関数で各分布の説明を見ることができる。"
      ]
    },
    {
      "cell_type": "code",
      "metadata": {
        "colab": {
          "base_uri": "https://localhost:8080/"
        },
        "id": "QdtnqxzkaLfP",
        "outputId": "519019cd-17f1-4428-b9f0-3569b73b141f"
      },
      "source": [
        "help(pm.Normal)"
      ],
      "execution_count": 27,
      "outputs": [
        {
          "output_type": "stream",
          "name": "stdout",
          "text": [
            "Help on class Normal in module pymc3.distributions.continuous:\n",
            "\n",
            "class Normal(pymc3.distributions.distribution.Continuous)\n",
            " |  Normal(name, *args, **kwargs)\n",
            " |  \n",
            " |  Univariate normal log-likelihood.\n",
            " |  \n",
            " |  The pdf of this distribution is\n",
            " |  \n",
            " |  .. math::\n",
            " |  \n",
            " |     f(x \\mid \\mu, \\tau) =\n",
            " |         \\sqrt{\\frac{\\tau}{2\\pi}}\n",
            " |         \\exp\\left\\{ -\\frac{\\tau}{2} (x-\\mu)^2 \\right\\}\n",
            " |  \n",
            " |  Normal distribution can be parameterized either in terms of precision\n",
            " |  or standard deviation. The link between the two parametrizations is\n",
            " |  given by\n",
            " |  \n",
            " |  .. math::\n",
            " |  \n",
            " |     \\tau = \\dfrac{1}{\\sigma^2}\n",
            " |  \n",
            " |  .. plot::\n",
            " |  \n",
            " |      import matplotlib.pyplot as plt\n",
            " |      import numpy as np\n",
            " |      import scipy.stats as st\n",
            " |      plt.style.use('seaborn-darkgrid')\n",
            " |      x = np.linspace(-5, 5, 1000)\n",
            " |      mus = [0., 0., 0., -2.]\n",
            " |      sigmas = [0.4, 1., 2., 0.4]\n",
            " |      for mu, sigma in zip(mus, sigmas):\n",
            " |          pdf = st.norm.pdf(x, mu, sigma)\n",
            " |          plt.plot(x, pdf, label=r'$\\mu$ = {}, $\\sigma$ = {}'.format(mu, sigma))\n",
            " |      plt.xlabel('x', fontsize=12)\n",
            " |      plt.ylabel('f(x)', fontsize=12)\n",
            " |      plt.legend(loc=1)\n",
            " |      plt.show()\n",
            " |  \n",
            " |  ========  ==========================================\n",
            " |  Support   :math:`x \\in \\mathbb{R}`\n",
            " |  Mean      :math:`\\mu`\n",
            " |  Variance  :math:`\\dfrac{1}{\\tau}` or :math:`\\sigma^2`\n",
            " |  ========  ==========================================\n",
            " |  \n",
            " |  Parameters\n",
            " |  ----------\n",
            " |  mu: float\n",
            " |      Mean.\n",
            " |  sigma: float\n",
            " |      Standard deviation (sigma > 0) (only required if tau is not specified).\n",
            " |  tau: float\n",
            " |      Precision (tau > 0) (only required if sigma is not specified).\n",
            " |  \n",
            " |  Examples\n",
            " |  --------\n",
            " |  .. code-block:: python\n",
            " |  \n",
            " |      with pm.Model():\n",
            " |          x = pm.Normal('x', mu=0, sigma=10)\n",
            " |  \n",
            " |      with pm.Model():\n",
            " |          x = pm.Normal('x', mu=0, tau=1/23)\n",
            " |  \n",
            " |  Method resolution order:\n",
            " |      Normal\n",
            " |      pymc3.distributions.distribution.Continuous\n",
            " |      pymc3.distributions.distribution.Distribution\n",
            " |      builtins.object\n",
            " |  \n",
            " |  Methods defined here:\n",
            " |  \n",
            " |  __init__(self, mu=0, sigma=None, tau=None, sd=None, **kwargs)\n",
            " |      Initialize self.  See help(type(self)) for accurate signature.\n",
            " |  \n",
            " |  logcdf(self, value)\n",
            " |      Compute the log of the cumulative distribution function for Normal distribution\n",
            " |      at the specified value.\n",
            " |      \n",
            " |      Parameters\n",
            " |      ----------\n",
            " |      value: numeric or np.ndarray or theano.tensor\n",
            " |          Value(s) for which log CDF is calculated. If the log CDF for multiple\n",
            " |          values are desired the values must be provided in a numpy array or theano tensor.\n",
            " |      \n",
            " |      Returns\n",
            " |      -------\n",
            " |      TensorVariable\n",
            " |  \n",
            " |  logp(self, value)\n",
            " |      Calculate log-probability of Normal distribution at specified value.\n",
            " |      \n",
            " |      Parameters\n",
            " |      ----------\n",
            " |      value: numeric\n",
            " |          Value(s) for which log-probability is calculated. If the log probabilities for multiple\n",
            " |          values are desired the values must be provided in a numpy array or theano tensor\n",
            " |      \n",
            " |      Returns\n",
            " |      -------\n",
            " |      TensorVariable\n",
            " |  \n",
            " |  random(self, point=None, size=None)\n",
            " |      Draw random values from Normal distribution.\n",
            " |      \n",
            " |      Parameters\n",
            " |      ----------\n",
            " |      point: dict, optional\n",
            " |          Dict of variable values on which random values are to be\n",
            " |          conditioned (uses default point if not specified).\n",
            " |      size: int, optional\n",
            " |          Desired size of random sample (returns one sample if not\n",
            " |          specified).\n",
            " |      \n",
            " |      Returns\n",
            " |      -------\n",
            " |      array\n",
            " |  \n",
            " |  ----------------------------------------------------------------------\n",
            " |  Data and other attributes defined here:\n",
            " |  \n",
            " |  data = None\n",
            " |  \n",
            " |  ----------------------------------------------------------------------\n",
            " |  Methods inherited from pymc3.distributions.distribution.Distribution:\n",
            " |  \n",
            " |  __getnewargs__(self)\n",
            " |  \n",
            " |  __latex__ = _repr_latex_(self, *, formatting='latex_with_params', **kwargs)\n",
            " |  \n",
            " |  __str__(self, **kwargs)\n",
            " |      Return str(self).\n",
            " |  \n",
            " |  default(self)\n",
            " |  \n",
            " |  get_test_val(self, val, defaults)\n",
            " |  \n",
            " |  getattr_value(self, val)\n",
            " |  \n",
            " |  logp_nojac(self, *args, **kwargs)\n",
            " |      Return the logp, but do not include a jacobian term for transforms.\n",
            " |      \n",
            " |      If we use different parametrizations for the same distribution, we\n",
            " |      need to add the determinant of the jacobian of the transformation\n",
            " |      to make sure the densities still describe the same distribution.\n",
            " |      However, MAP estimates are not invariant with respect to the\n",
            " |      parametrization, we need to exclude the jacobian terms in this case.\n",
            " |      \n",
            " |      This function should be overwritten in base classes for transformed\n",
            " |      distributions.\n",
            " |  \n",
            " |  logp_sum(self, *args, **kwargs)\n",
            " |      Return the sum of the logp values for the given observations.\n",
            " |      \n",
            " |      Subclasses can use this to improve the speed of logp evaluations\n",
            " |      if only the sum of the logp values is needed.\n",
            " |  \n",
            " |  ----------------------------------------------------------------------\n",
            " |  Class methods inherited from pymc3.distributions.distribution.Distribution:\n",
            " |  \n",
            " |  dist(*args, **kwargs) from builtins.type\n",
            " |  \n",
            " |  ----------------------------------------------------------------------\n",
            " |  Static methods inherited from pymc3.distributions.distribution.Distribution:\n",
            " |  \n",
            " |  __new__(cls, name, *args, **kwargs)\n",
            " |      Create and return a new object.  See help(type) for accurate signature.\n",
            " |  \n",
            " |  ----------------------------------------------------------------------\n",
            " |  Data descriptors inherited from pymc3.distributions.distribution.Distribution:\n",
            " |  \n",
            " |  __dict__\n",
            " |      dictionary for instance variables (if defined)\n",
            " |  \n",
            " |  __weakref__\n",
            " |      list of weak references to the object (if defined)\n",
            "\n"
          ]
        }
      ]
    },
    {
      "cell_type": "code",
      "metadata": {
        "id": "Ga5fXr_rP_yn"
      },
      "source": [
        "with pm.Model() as model:\n",
        "  x = pm.Normal(\"x\", mu=0, sigma=1)"
      ],
      "execution_count": 28,
      "outputs": []
    },
    {
      "cell_type": "markdown",
      "metadata": {
        "id": "fRbAA9cHnojs"
      },
      "source": [
        "* 確率変数の`random`メソッドを使うと、その確率変数が従う分布から乱数を発生させることができる。"
      ]
    },
    {
      "cell_type": "code",
      "metadata": {
        "colab": {
          "base_uri": "https://localhost:8080/"
        },
        "id": "sqZ63hpmneQq",
        "outputId": "de7f96e7-2ae6-4a35-ee14-50151bfc0a62"
      },
      "source": [
        "x.random()"
      ],
      "execution_count": 29,
      "outputs": [
        {
          "output_type": "execute_result",
          "data": {
            "text/plain": [
              "array(0.46894431)"
            ]
          },
          "metadata": {},
          "execution_count": 29
        }
      ]
    },
    {
      "cell_type": "code",
      "metadata": {
        "colab": {
          "base_uri": "https://localhost:8080/"
        },
        "id": "jb5UQ5EyoDtN",
        "outputId": "320a9044-2430-4037-b527-a8c2e9aea06b"
      },
      "source": [
        "model.named_vars[\"x\"].random()"
      ],
      "execution_count": 30,
      "outputs": [
        {
          "output_type": "execute_result",
          "data": {
            "text/plain": [
              "array(1.031754)"
            ]
          },
          "metadata": {},
          "execution_count": 30
        }
      ]
    },
    {
      "cell_type": "markdown",
      "metadata": {
        "id": "hE1IkuD3n48R"
      },
      "source": [
        "* 発生させる乱数の形も指定できる。"
      ]
    },
    {
      "cell_type": "code",
      "metadata": {
        "colab": {
          "base_uri": "https://localhost:8080/"
        },
        "id": "nsBkhj7bnge3",
        "outputId": "ddbc2df8-54b7-47e3-fae6-c7eb13db39f1"
      },
      "source": [
        "x.random(size=(5,2))"
      ],
      "execution_count": 31,
      "outputs": [
        {
          "output_type": "execute_result",
          "data": {
            "text/plain": [
              "array([[-0.05742234,  0.72721336],\n",
              "       [-0.67476144,  0.1136957 ],\n",
              "       [-1.06386371, -1.29675236],\n",
              "       [-0.39666825, -0.48070499],\n",
              "       [ 0.32818013, -0.761703  ]])"
            ]
          },
          "metadata": {},
          "execution_count": 31
        }
      ]
    },
    {
      "cell_type": "markdown",
      "metadata": {
        "id": "cJe6jgKBP2Dt"
      },
      "source": [
        "* `x.distribution`で、`x`が従う確率分布にアクセスできる。\n",
        "* `x.distribution.logp`を使うと、確率変数が従う分布の密度関数の対数を評価することもできる。"
      ]
    },
    {
      "cell_type": "code",
      "metadata": {
        "colab": {
          "base_uri": "https://localhost:8080/"
        },
        "id": "kQ9lZ6ZpQEsN",
        "outputId": "5ab312b6-7d7b-4628-d0b3-8684d2e1a6f6"
      },
      "source": [
        "eval_points = np.linspace(-5.0, 5.0, 11)\n",
        "print(eval_points)"
      ],
      "execution_count": 32,
      "outputs": [
        {
          "output_type": "stream",
          "name": "stdout",
          "text": [
            "[-5. -4. -3. -2. -1.  0.  1.  2.  3.  4.  5.]\n"
          ]
        }
      ]
    },
    {
      "cell_type": "code",
      "metadata": {
        "colab": {
          "base_uri": "https://localhost:8080/"
        },
        "id": "RSHmiiecQnr5",
        "outputId": "c59e66ad-ea25-42fa-9262-80b10dd4a46c"
      },
      "source": [
        "np.exp(x.distribution.logp(eval_points).eval())"
      ],
      "execution_count": 33,
      "outputs": [
        {
          "output_type": "execute_result",
          "data": {
            "text/plain": [
              "array([1.48671951e-06, 1.33830226e-04, 4.43184841e-03, 5.39909665e-02,\n",
              "       2.41970725e-01, 3.98942280e-01, 2.41970725e-01, 5.39909665e-02,\n",
              "       4.43184841e-03, 1.33830226e-04, 1.48671951e-06])"
            ]
          },
          "metadata": {},
          "execution_count": 33
        }
      ]
    },
    {
      "cell_type": "code",
      "metadata": {
        "colab": {
          "base_uri": "https://localhost:8080/"
        },
        "id": "GGxkHtAOSqjD",
        "outputId": "73126ded-e082-4449-c1a7-cb8191a7b8c0"
      },
      "source": [
        "np.exp(model.named_vars[\"x\"].distribution.logp(eval_points).eval())"
      ],
      "execution_count": 34,
      "outputs": [
        {
          "output_type": "execute_result",
          "data": {
            "text/plain": [
              "array([1.48671951e-06, 1.33830226e-04, 4.43184841e-03, 5.39909665e-02,\n",
              "       2.41970725e-01, 3.98942280e-01, 2.41970725e-01, 5.39909665e-02,\n",
              "       4.43184841e-03, 1.33830226e-04, 1.48671951e-06])"
            ]
          },
          "metadata": {},
          "execution_count": 34
        }
      ]
    },
    {
      "cell_type": "code",
      "source": [
        "eval_points = np.linspace(-5.0, 5.0, 101)\n",
        "y = np.exp(model.named_vars[\"x\"].distribution.logp(eval_points).eval())\n",
        "plt.plot(eval_points, y);"
      ],
      "metadata": {
        "colab": {
          "base_uri": "https://localhost:8080/",
          "height": 265
        },
        "id": "625Jrzc6lVM_",
        "outputId": "50076175-fa65-4c0d-d374-bc567fbf8903"
      },
      "execution_count": 35,
      "outputs": [
        {
          "output_type": "display_data",
          "data": {
            "image/png": "[encoded data removed]",
            "text/plain": [
              "<Figure size 432x288 with 1 Axes>"
            ]
          },
          "metadata": {
            "image/png": {
              "width": 378,
              "height": 248
            },
            "needs_background": "light"
          }
        }
      ]
    },
    {
      "cell_type": "markdown",
      "metadata": {
        "id": "7c0kLnZnbJ0l"
      },
      "source": [
        "### 2.3.2 確率変数のdeterministic transform\n",
        "* 観測確率変数でも潜在確率変数でもないものとして、確率変数のdeterministic transformsがある。\n",
        "* これは、他の確率変数を、加減乗除の計算を行ったり、自分で定義した関数を適用するなどして、変換したもののことである。"
      ]
    },
    {
      "cell_type": "code",
      "metadata": {
        "id": "w4v51b_cabB1"
      },
      "source": [
        "with pm.Model() as model:\n",
        "  x = pm.Normal(\"x\", mu=0, sigma=1)\n",
        "  y = pm.Gamma(\"y\", alpha=1, beta=1)\n",
        "  summed = x + y\n",
        "  squared = x ** 2\n",
        "  sined = pm.math.sin(x)"
      ],
      "execution_count": 36,
      "outputs": []
    },
    {
      "cell_type": "markdown",
      "metadata": {
        "id": "DEzjkU2EcwpF"
      },
      "source": [
        "* 確率変数の値を変換した後の値も、PyMC3にちゃんと追跡させるには、`pm.Deterministic`を使って変換する。"
      ]
    },
    {
      "cell_type": "code",
      "metadata": {
        "id": "gOH-aAoGctpU"
      },
      "source": [
        "with pm.Model() as model:\n",
        "  x = pm.Normal(\"x\", mu=0, sigma=1)\n",
        "  plus_2 = x + 2\n",
        "  plus_2_det = pm.Deterministic(\"x plus 2\", x + 2)"
      ],
      "execution_count": 37,
      "outputs": []
    },
    {
      "cell_type": "code",
      "metadata": {
        "colab": {
          "base_uri": "https://localhost:8080/"
        },
        "id": "yXxljJ5ic8My",
        "outputId": "1ee3f55b-805f-447a-8e1a-221a42b90b2d"
      },
      "source": [
        "plus_2"
      ],
      "execution_count": 38,
      "outputs": [
        {
          "output_type": "execute_result",
          "data": {
            "text/plain": [
              "Elemwise{add,no_inplace}.0"
            ]
          },
          "metadata": {},
          "execution_count": 38
        }
      ]
    },
    {
      "cell_type": "code",
      "metadata": {
        "colab": {
          "base_uri": "https://localhost:8080/",
          "height": 37
        },
        "id": "OdnqeVwLc98Q",
        "outputId": "5c25dc5c-b6ef-4cdd-9110-d848c4cd1422"
      },
      "source": [
        "plus_2_det"
      ],
      "execution_count": 39,
      "outputs": [
        {
          "output_type": "execute_result",
          "data": {
            "text/latex": "$\\text{x plus 2} \\sim \\text{Deterministic}(\\text{x},~\\text{Constant})$",
            "text/plain": [
              "x plus 2 ~ Deterministic"
            ]
          },
          "metadata": {},
          "execution_count": 39
        }
      ]
    },
    {
      "cell_type": "code",
      "metadata": {
        "colab": {
          "base_uri": "https://localhost:8080/"
        },
        "id": "s1lcIYypK4Tx",
        "outputId": "7fd84a6c-e9d7-4253-d728-93c987b2051b"
      },
      "source": [
        "model.deterministics"
      ],
      "execution_count": 40,
      "outputs": [
        {
          "output_type": "execute_result",
          "data": {
            "text/plain": [
              "[x plus 2 ~ Deterministic]"
            ]
          },
          "metadata": {},
          "execution_count": 40
        }
      ]
    },
    {
      "cell_type": "markdown",
      "metadata": {
        "id": "ldESl6zzLGaW"
      },
      "source": [
        "### 2.3.3 確率変数の自動的なtransform\n",
        "* デフォルトの設定のもとで、自動的に変換される変数がある。"
      ]
    },
    {
      "cell_type": "markdown",
      "metadata": {
        "id": "Ixjo0-bRLWM4"
      },
      "source": [
        "* 例えば、範囲の決まった連続一様分布に従う確率変数は、`LogOdds`変換が自動的に適用されている。"
      ]
    },
    {
      "cell_type": "code",
      "metadata": {
        "id": "CD8qiJ9leId1"
      },
      "source": [
        "with pm.Model() as model:\n",
        "  x = pm.Uniform(\"x\", lower=0, upper=1)"
      ],
      "execution_count": 41,
      "outputs": []
    },
    {
      "cell_type": "code",
      "metadata": {
        "colab": {
          "base_uri": "https://localhost:8080/"
        },
        "id": "m2ucQU8eLvkJ",
        "outputId": "7ed099de-8f55-41f6-e05f-021a65b92d3a"
      },
      "source": [
        "model.free_RVs"
      ],
      "execution_count": 42,
      "outputs": [
        {
          "output_type": "execute_result",
          "data": {
            "text/plain": [
              "[x_interval__ ~ TransformedDistribution]"
            ]
          },
          "metadata": {},
          "execution_count": 42
        }
      ]
    },
    {
      "cell_type": "markdown",
      "metadata": {
        "id": "RfrH2HrOL6lr"
      },
      "source": [
        "* `x`は、`x_interval__`にロジスティック変換（`LogOdds`変換の逆）を適用したものとして扱われている。\n",
        " * 表立っては分からないが、以下のようにすると、`x`が確率変数ではなくdeterministics（確率変数をdeterministicに変換したもの）の一つであることが分かる。"
      ]
    },
    {
      "cell_type": "code",
      "metadata": {
        "colab": {
          "base_uri": "https://localhost:8080/"
        },
        "id": "tQHt1V-ILzbQ",
        "outputId": "7d3340dd-e559-4f5d-90f3-1142c316d57a"
      },
      "source": [
        "model.deterministics"
      ],
      "execution_count": 43,
      "outputs": [
        {
          "output_type": "execute_result",
          "data": {
            "text/plain": [
              "[x ~ Uniform]"
            ]
          },
          "metadata": {},
          "execution_count": 43
        }
      ]
    },
    {
      "cell_type": "markdown",
      "metadata": {
        "id": "9hCt5JGiMs96"
      },
      "source": [
        "### 2.3.4 変数変換の利用例：変換を明示的に指定することで対数正規分布に従う確率変数を作る*"
      ]
    },
    {
      "cell_type": "markdown",
      "metadata": {
        "id": "RKdtu-R-M9Un"
      },
      "source": [
        "* PyMC3の`pymc3.distributions.transforms.ElemwiseTransform`クラスを継承して、自前の変数変換`Exp`を定義する。\n",
        " * これは、変数に指数関数を適用する変換である。\n",
        " * 詳細は https://github.com/pymc-devs/pymc3/blob/master/pymc3/distributions/transforms.py を参照。"
      ]
    },
    {
      "cell_type": "markdown",
      "metadata": {
        "id": "8T0sG_Uf5oSB"
      },
      "source": [
        "* 自前で変数変換を定義するときは、(1)順方向の変換と、(2)逆方向の変換と、(3)ヤコビアン行列式の絶対値の対数とを、書く。\n",
        " * 順方向の変換 $y=e^x$\n",
        " * 逆変換 $x = \\log y$\n",
        " * ヤコビアン行列式の絶対値の対数 $\\log|dx/dy| = \\log (1/y) = - \\log y$\n"
      ]
    },
    {
      "cell_type": "code",
      "metadata": {
        "id": "fALMYI_NM6IS"
      },
      "source": [
        "import theano.tensor as tt # PyMC3でのテンソル型 cf. https://docs.pymc.io/PyMC3_and_Theano.html\n",
        "import pymc3.distributions.transforms as tr\n",
        "\n",
        "class Exp(tr.ElemwiseTransform):\n",
        "  name = \"exp\"\n",
        "\n",
        "  def backward(self, x):\n",
        "    return tt.log(x)\n",
        "\n",
        "  def forward(self, x):\n",
        "    return tt.exp(x)\n",
        "\n",
        "  # Calculates logarithm of the absolute value of the Jacobian determinant of the backward transformation for input x\n",
        "  def jacobian_det(self, x):\n",
        "    return -tt.log(x)"
      ],
      "execution_count": 44,
      "outputs": []
    },
    {
      "cell_type": "markdown",
      "metadata": {
        "id": "1PXbIu75NK2p"
      },
      "source": [
        "* 正規分布に従う確率変数に指数関数を適用すると、その値は対数正規分布に従う。\n",
        " * `x1`は、この変数変換を使って対数正規分布に従う確率変数として作られている。\n",
        " * `x2`は、PyMC3に初めから用意されている対数正規分布に従う確率変数として作られている。"
      ]
    },
    {
      "cell_type": "code",
      "metadata": {
        "id": "ek-kVuIfNScA"
      },
      "source": [
        "with pm.Model() as model:\n",
        "  x1 = pm.Normal(\"x1\", 0.0, 1.0, transform=Exp())\n",
        "  x2 = pm.Lognormal(\"x2\", 0.0, 1.0)"
      ],
      "execution_count": 45,
      "outputs": []
    },
    {
      "cell_type": "code",
      "metadata": {
        "colab": {
          "base_uri": "https://localhost:8080/"
        },
        "id": "Uq_R81iN7udU",
        "outputId": "7ce92bff-697d-4fba-8f36-1c48bfcda84a"
      },
      "source": [
        "model.free_RVs"
      ],
      "execution_count": 46,
      "outputs": [
        {
          "output_type": "execute_result",
          "data": {
            "text/plain": [
              "[x1_exp__ ~ TransformedDistribution, x2_log__ ~ TransformedDistribution]"
            ]
          },
          "metadata": {},
          "execution_count": 46
        }
      ]
    },
    {
      "cell_type": "code",
      "metadata": {
        "colab": {
          "base_uri": "https://localhost:8080/"
        },
        "id": "RyQOcRXq72md",
        "outputId": "bd1dfe1a-4a5e-4cfd-cfbe-89f19025e3ea"
      },
      "source": [
        "model.deterministics"
      ],
      "execution_count": 47,
      "outputs": [
        {
          "output_type": "execute_result",
          "data": {
            "text/plain": [
              "[x1 ~ Normal, x2 ~ Lognormal]"
            ]
          },
          "metadata": {},
          "execution_count": 47
        }
      ]
    },
    {
      "cell_type": "code",
      "metadata": {
        "colab": {
          "base_uri": "https://localhost:8080/",
          "height": 374
        },
        "id": "MI9zuW0WOPX0",
        "outputId": "9cb1e366-58c4-486b-ec0f-cdf2719ec5af"
      },
      "source": [
        "figsize(10, 6)\n",
        "\n",
        "lognorm1 = model.named_vars[\"x1_exp__\"]\n",
        "lognorm2 = model.named_vars[\"x2\"]\n",
        "\n",
        "_, ax = plt.subplots(1, 1)\n",
        "x = np.linspace(0.0, 10.0, 101)\n",
        "ax.plot(\n",
        "    x,\n",
        "    np.exp(lognorm1.distribution.logp(x).eval()),\n",
        "    \"--\",\n",
        "    alpha=0.5,\n",
        "    label=\"log(y) ~ Normal(0, 1)\",\n",
        ")\n",
        "ax.plot(\n",
        "    x,\n",
        "    np.exp(lognorm2.distribution.logp(x).eval()),\n",
        "    alpha=0.5,\n",
        "    label=\"y ~ Lognormal(0, 1)\",\n",
        ")\n",
        "plt.legend();"
      ],
      "execution_count": 48,
      "outputs": [
        {
          "output_type": "display_data",
          "data": {
            "image/png": "[encoded data removed]",
            "text/plain": [
              "<Figure size 720x432 with 1 Axes>"
            ]
          },
          "metadata": {
            "image/png": {
              "width": 595,
              "height": 357
            },
            "needs_background": "light"
          }
        }
      ]
    },
    {
      "cell_type": "markdown",
      "metadata": {
        "id": "YE2h9bNDFgfZ"
      },
      "source": [
        "## 2.4 MCMC (Markov Chain Monte Carlo)\n",
        "* 実際にPyMC3で事後分布からのサンプリングを行う前に・・・\n",
        "* PyMC3の動作原理であるMCMCについて、**だいたいのところ**を理解しておく。\n",
        " * 参考資料 https://www.ism.ac.jp/~shiro/papers/2017.05.slides/Iba.pdf"
      ]
    },
    {
      "cell_type": "markdown",
      "metadata": {
        "id": "hXE_bSU4F3wO"
      },
      "source": [
        "### 2.4.1 MCMCの使い道：積分の近似計算\n",
        "* ベイズ的モデリングで、事後分布を求めてどうするのか。\n",
        "* 事後分布に関して、$\\theta$の関数$f(\\theta)$の期待値を計算することが、しばしばある。\n",
        "$$ E_{p(\\theta|X)}[f(\\theta)] = \\int f(\\theta) p(\\theta|X) d\\theta$$\n",
        " * 例： $f(\\theta)$として、データのモデリングに使っている尤度関数$p(x|\\theta)$を持ってくると、上の式は予測分布$p(x|X)$を表す。\n",
        "$$ E_{p(\\theta|X)}[p(x|\\theta)] = \\int p(x|\\theta) p(\\theta|X) d\\theta = p(x|X)$$\n",
        "* 期待値$E_{p(\\theta|X)}[f(\\theta)]$のこの計算を、以下の平均値で近似することを、モンテカルロ近似と呼ぶ。\n",
        " * $\\{ \\theta_s \\}$は、事後分布$p(\\theta|X)$からdrawした$N$個のサンプルを表す。\n",
        "$$ E_{p(\\theta|X)}[f(\\theta)] = \\int f(\\theta) p(\\theta|X) d\\theta \\approx \\frac{1}{S} \\sum_{s=1}^N f(\\theta_s) $$"
      ]
    },
    {
      "cell_type": "markdown",
      "source": [
        "* こういう近似計算をするとき、$p(\\theta|X)$からのサンプルが必要。\n",
        "* そこで、MCMCを使う。"
      ],
      "metadata": {
        "id": "10gokrYEoQ-3"
      }
    },
    {
      "cell_type": "markdown",
      "metadata": {
        "id": "eDnOmCfmH4Pt"
      },
      "source": [
        "### 2.4.2 マルコフ連鎖\n",
        "* マルコフ連鎖とは、確率変数の列$X_1, X_2, \\ldots$で、以下を満たすもののことを言う。\n",
        "$$P(X_{t+1} = x | X_t=x_t, \\ldots, X_1=x_1) = P(X_{t+1}=x | X_t=x_t) $$\n",
        " * 次の値の出現確率が、直前の値だけに依存する、ということ。\n",
        " * 次の値の出現確率$P(X_{t+1}=x | X_t=x_t)$を、以下、$\\pi(x_t \\rightarrow x)$と書く。\n",
        "* ところで、マルコフ連鎖は、以下の等式を満たす定常分布$P(x)$を持つことがある。\n",
        "$$ \\sum_{x^\\prime} P(x^\\prime) \\pi( x^\\prime \\rightarrow x) = P(x)$$\n",
        " * いくつかの性質を満たしてはじめて、マルコフ連鎖は定常分布を持つ。 \n",
        " * 世界で一番有名な定常分布は、PageRank？\n"
      ]
    },
    {
      "cell_type": "markdown",
      "metadata": {
        "id": "ufmp9117M8ZX"
      },
      "source": [
        "### 2.4.3 MCMC（マルコフ連鎖モンテカルロ法）とは？\n",
        "* MCMCは、定常分布が所望の分布になるようなマルコフ連鎖を作るアルゴリズム。\n",
        "* 現在の$x_t$から、次の$x_{t+1}$を\"賢く\"作ると、こうして得られる値の列$\\{x_1,\\ldots,x_M\\}$が、所望の分布からのサンプルになっている。\n",
        "* 実際には、最初の数百個〜数千個のサンプルは捨てる。（捨てる期間を[burn-in](https://www.johndcook.com/blog/2016/01/25/mcmc-burn-in/) periodと呼ぶ。）\n",
        " * 最初の方のサンプルは、高確率な領域からのサンプルになっていない。\n",
        " * そのため、上述のモンテカルロ近似が、あまり良い近似にならない。"
      ]
    },
    {
      "cell_type": "markdown",
      "metadata": {
        "id": "VH8ucr64LXBt"
      },
      "source": [
        "### 2.4.4 詳細釣り合い条件\n",
        "$$ P(x) \\pi (x \\rightarrow x^\\prime) = P(x^\\prime) \\pi (x^\\prime \\rightarrow x)$$\n",
        "* 上の式は、詳細釣り合い条件、あるいは、可逆性条件と呼ばれる。\n",
        "* 詳細釣り合い条件は、$\\pi$で表されるマルコフ連鎖の定常分布が$P(x)$になるための、**十分条件**。\n",
        " * つまり、詳細釣り合い条件なしのMCMCもありうる（これは割愛）。\n"
      ]
    },
    {
      "cell_type": "markdown",
      "metadata": {
        "id": "c08lhEguO6d4"
      },
      "source": [
        "## 2.5 メトロポリス法\n",
        "* メトロポリス法は、詳細釣り合い条件を満たすような$\\pi$を得る一つの方法。"
      ]
    },
    {
      "cell_type": "markdown",
      "metadata": {
        "id": "JQAeigFh4fy5"
      },
      "source": [
        "### 2.5.1 メトロポリス法のアルゴリズム\n",
        "\n",
        "\n",
        "\n",
        "\n",
        "\n"
      ]
    },
    {
      "cell_type": "markdown",
      "metadata": {
        "id": "RLSRKeoTPGfD"
      },
      "source": [
        "1.   今の$x$の次にくる値の候補$x^{new}$を、対称な提案分布$Q(x, x^{new})$に従って生成。\n",
        "2.   一様乱数$0 \\leq r < 1$を発生させる。\n",
        "3.   $r < \\frac{P(x^{new})}{P(x)}$ならば、$x$を$x^{new}$で置き換える。そうでなければ、次の値も今の値と同じ$x$にする。"
      ]
    },
    {
      "cell_type": "markdown",
      "metadata": {
        "id": "ZDWIxXy_PHtv"
      },
      "source": [
        "* ただし、提案分布$Q$が対称とは、$Q(x, x^\\prime) = Q(x^\\prime, x)$が満たされることをいう。\n",
        "* $\\frac{P(x^{new})}{P(x)}$という比は、分布$P$の密度関数が分かっていなくても、密度関数に比例する関数が分かっていれば、計算できる。\n",
        " * 例えば、$P(\\theta|X)$が分かっていなくても、$P(X|\\theta)P(\\theta)$が分かっていれば、計算できる。"
      ]
    },
    {
      "cell_type": "markdown",
      "metadata": {
        "id": "LiIrXUxrPQKA"
      },
      "source": [
        "### 2.5.2 メトロポリス法が詳細釣り合い条件を満たすことの証明"
      ]
    },
    {
      "cell_type": "markdown",
      "metadata": {
        "id": "4HTdTdgp5cYL"
      },
      "source": [
        "* $x$がとりうる２つの値、$\\alpha$および$\\gamma$を考える。\n",
        "* 一般性を失うことなく、$P(\\alpha) < P(\\gamma)$を仮定する。\n",
        "* 今の値が$\\alpha$で、次の値の候補が$\\gamma$であるとき、$1 < \\frac{P(\\gamma)}{P(\\alpha)}$となり、一様乱数の値$r$が何であっても必ず$r < \\frac{P(\\gamma)}{P(\\alpha)}$が満たされる。つまり、候補$\\gamma$は$r$の値によらず採用される。よって、$\\alpha$から$\\gamma$へ遷移する確率$\\pi(\\alpha \\to \\gamma)$は、$Q(\\alpha, \\gamma)$に一致する。\n",
        "* 今の値が$\\gamma$で、次の値の候補が$\\alpha$であるときは、$r < \\frac{P(\\alpha)}{P(\\gamma)}$が成り立たなければ$\\alpha$は採用されない。よって、$\\gamma$から$\\alpha$へ遷移する確率$\\pi(\\gamma \\to \\alpha)$は、$Q(\\gamma, \\alpha) \\times \\frac{P(\\alpha)}{P(\\gamma)}$に一致する。\n",
        "* 詳細釣り合い条件において等式で結ばれている両辺のうち、今の値が$\\alpha$である場合に対応するほうは、$P(\\alpha)\\pi(\\alpha \\to \\gamma)$であり、これは、$P(\\alpha)Q(\\alpha, \\gamma)$となる。\n",
        "* 詳細釣り合い条件において等式で結ばれている両辺のうち、今の値が$\\gamma$である場合に対応するほうは、$P(\\gamma)\\pi(\\gamma \\to \\alpha)$であり、これは、$P(\\gamma)Q(\\gamma, \\alpha) \\times \\frac{P(\\alpha)}{P(\\gamma)} = P(\\alpha) Q(\\gamma, \\alpha)$となる。\n",
        "* 提案分布$Q$は対称だったので、これら両辺は等しくなる。"
      ]
    },
    {
      "cell_type": "markdown",
      "metadata": {
        "id": "WpnxLZDK-vkK"
      },
      "source": [
        "* 以上の議論により、メトロポリス法で得られる$x$の列は、確率分布$P$からのサンプルの列と見なすことができる。"
      ]
    },
    {
      "cell_type": "markdown",
      "metadata": {
        "id": "nALF0Nyw_Emo"
      },
      "source": [
        "* メトロポリス法は、次の値の候補$x^{new}$が採用されないと、前に進まない。\n",
        "* つまり、選んだ提案分布が不味くて、いくら候補をそこから生成させてもほとんどが採用されないと、いくら時間をかけても少ししかサンプルが得られない。\n",
        "* 良い提案分布を選ぶことが重要である！"
      ]
    },
    {
      "cell_type": "markdown",
      "metadata": {
        "id": "OzYFkEg9P3Ql"
      },
      "source": [
        "## 2.6 メトロポリス・ヘイスティングス法\n",
        "* MH法では、非対称な提案分布も使える。\n",
        " * よって、メトロポリス法はMH法の特殊ケースだと言える。"
      ]
    },
    {
      "cell_type": "markdown",
      "metadata": {
        "id": "7-byc12SC6sS"
      },
      "source": [
        "### 2.6.1 メトロポリス・ヘイスティングス法のアルゴリズム \n",
        "\n",
        "\n",
        "1.   今の$x$の次にくる値の候補$x^{new}$を、提案分布$Q(x, x^{new})$に従って生成。\n",
        "2.   一様乱数$0 \\leq r < 1$を発生させる。\n",
        "3.   $r < A(x,x^{new})$ならば、$x$を$x^{new}$で置き換える。そうでなければ、次の値も今の値と同じ$x$にする。ただし、$A(x,x^{new})$は以下のように定義される：\n",
        "\n",
        "$$ A(x,x^{new}) \\equiv \\min \\bigg(1, \\frac{P(x^{new})Q(x^{new}, x)}{P(x) Q(x, x^{new})} \\bigg) $$"
      ]
    }
  ]
}